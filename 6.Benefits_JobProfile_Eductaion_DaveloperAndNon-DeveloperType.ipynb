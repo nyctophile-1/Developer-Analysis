{
 "cells": [
  {
   "cell_type": "code",
   "execution_count": 1,
   "metadata": {},
   "outputs": [],
   "source": [
    "import pandas as pd\n",
    "import numpy as np\n",
    "import matplotlib.pyplot as plt\n",
    "import seaborn as s\n",
    "%matplotlib inline"
   ]
  },
  {
   "cell_type": "code",
   "execution_count": 2,
   "metadata": {},
   "outputs": [],
   "source": [
    "data = pd.read_csv(\"updatedDatasets/Update3.csv\")"
   ]
  },
  {
   "cell_type": "code",
   "execution_count": 3,
   "metadata": {},
   "outputs": [
    {
     "data": {
      "text/html": [
       "<div>\n",
       "<style scoped>\n",
       "    .dataframe tbody tr th:only-of-type {\n",
       "        vertical-align: middle;\n",
       "    }\n",
       "\n",
       "    .dataframe tbody tr th {\n",
       "        vertical-align: top;\n",
       "    }\n",
       "\n",
       "    .dataframe thead th {\n",
       "        text-align: right;\n",
       "    }\n",
       "</style>\n",
       "<table border=\"1\" class=\"dataframe\">\n",
       "  <thead>\n",
       "    <tr style=\"text-align: right;\">\n",
       "      <th></th>\n",
       "      <th>Respondent</th>\n",
       "      <th>Professional</th>\n",
       "      <th>ProgramHobby</th>\n",
       "      <th>Country</th>\n",
       "      <th>University</th>\n",
       "      <th>EmploymentStatus</th>\n",
       "      <th>FormalEducation</th>\n",
       "      <th>MajorUndergrad</th>\n",
       "      <th>YearsCodedJob</th>\n",
       "      <th>DeveloperType</th>\n",
       "      <th>...</th>\n",
       "      <th>WantWorkDatabase</th>\n",
       "      <th>HaveWorkedPlatform</th>\n",
       "      <th>WantWorkPlatform</th>\n",
       "      <th>IDE</th>\n",
       "      <th>AuditoryEnvironment</th>\n",
       "      <th>Gender</th>\n",
       "      <th>HighestEducationParents</th>\n",
       "      <th>Salary</th>\n",
       "      <th>ExpectedSalary</th>\n",
       "      <th>Assess_Scoring</th>\n",
       "    </tr>\n",
       "  </thead>\n",
       "  <tbody>\n",
       "    <tr>\n",
       "      <th>0</th>\n",
       "      <td>1</td>\n",
       "      <td>Student</td>\n",
       "      <td>Yes, both</td>\n",
       "      <td>United States</td>\n",
       "      <td>No</td>\n",
       "      <td>Not employed, and not looking for work</td>\n",
       "      <td>Secondary school</td>\n",
       "      <td>NaN</td>\n",
       "      <td>NaN</td>\n",
       "      <td>NaN</td>\n",
       "      <td>...</td>\n",
       "      <td>NaN</td>\n",
       "      <td>iOS</td>\n",
       "      <td>iOS</td>\n",
       "      <td>Atom; Xcode</td>\n",
       "      <td>Turn on some music</td>\n",
       "      <td>Male</td>\n",
       "      <td>High school</td>\n",
       "      <td>NaN</td>\n",
       "      <td>NaN</td>\n",
       "      <td>30.5</td>\n",
       "    </tr>\n",
       "    <tr>\n",
       "      <th>1</th>\n",
       "      <td>2</td>\n",
       "      <td>Student</td>\n",
       "      <td>Yes, both</td>\n",
       "      <td>United Kingdom</td>\n",
       "      <td>Yes, full-time</td>\n",
       "      <td>Employed part-time</td>\n",
       "      <td>Some college/university study without earning ...</td>\n",
       "      <td>Computer science or software engineering</td>\n",
       "      <td>NaN</td>\n",
       "      <td>NaN</td>\n",
       "      <td>...</td>\n",
       "      <td>MySQL; SQLite</td>\n",
       "      <td>Amazon Web Services (AWS)</td>\n",
       "      <td>Linux Desktop; Raspberry Pi; Amazon Web Servic...</td>\n",
       "      <td>Atom; Notepad++; Vim; PyCharm; RubyMine; Visua...</td>\n",
       "      <td>Put on some ambient sounds (e.g. whale songs, ...</td>\n",
       "      <td>Male</td>\n",
       "      <td>A master's degree</td>\n",
       "      <td>NaN</td>\n",
       "      <td>37500.0</td>\n",
       "      <td>NaN</td>\n",
       "    </tr>\n",
       "    <tr>\n",
       "      <th>2</th>\n",
       "      <td>3</td>\n",
       "      <td>Professional developer</td>\n",
       "      <td>Yes, both</td>\n",
       "      <td>United Kingdom</td>\n",
       "      <td>No</td>\n",
       "      <td>Employed full-time</td>\n",
       "      <td>Bachelor's degree</td>\n",
       "      <td>Computer science or software engineering</td>\n",
       "      <td>20 or more years</td>\n",
       "      <td>Other</td>\n",
       "      <td>...</td>\n",
       "      <td>NaN</td>\n",
       "      <td>NaN</td>\n",
       "      <td>NaN</td>\n",
       "      <td>Sublime Text; Vim; IntelliJ</td>\n",
       "      <td>Turn on some music</td>\n",
       "      <td>Male</td>\n",
       "      <td>A professional degree</td>\n",
       "      <td>113750.000000</td>\n",
       "      <td>NaN</td>\n",
       "      <td>NaN</td>\n",
       "    </tr>\n",
       "    <tr>\n",
       "      <th>3</th>\n",
       "      <td>4</td>\n",
       "      <td>Professional non-developer who sometimes write...</td>\n",
       "      <td>Yes, both</td>\n",
       "      <td>United States</td>\n",
       "      <td>No</td>\n",
       "      <td>Employed full-time</td>\n",
       "      <td>Doctoral degree</td>\n",
       "      <td>A non-computer-focused engineering discipline</td>\n",
       "      <td>5 to 10 years</td>\n",
       "      <td>NaN</td>\n",
       "      <td>...</td>\n",
       "      <td>MongoDB; Redis; SQL Server; MySQL; SQLite</td>\n",
       "      <td>Windows Desktop; Linux Desktop; Mac OS; Amazon...</td>\n",
       "      <td>Windows Desktop; Linux Desktop; Mac OS; Amazon...</td>\n",
       "      <td>Notepad++; Sublime Text; TextMate; Vim; IPytho...</td>\n",
       "      <td>Turn on some music</td>\n",
       "      <td>Male</td>\n",
       "      <td>A doctoral degree</td>\n",
       "      <td>63120.608546</td>\n",
       "      <td>NaN</td>\n",
       "      <td>28.5</td>\n",
       "    </tr>\n",
       "    <tr>\n",
       "      <th>4</th>\n",
       "      <td>5</td>\n",
       "      <td>Professional developer</td>\n",
       "      <td>Yes, I program as a hobby</td>\n",
       "      <td>Switzerland</td>\n",
       "      <td>No</td>\n",
       "      <td>Employed full-time</td>\n",
       "      <td>Master's degree</td>\n",
       "      <td>Computer science or software engineering</td>\n",
       "      <td>10 to 15 years</td>\n",
       "      <td>Mobile developer; Graphics programming; Deskto...</td>\n",
       "      <td>...</td>\n",
       "      <td>NaN</td>\n",
       "      <td>NaN</td>\n",
       "      <td>NaN</td>\n",
       "      <td>NaN</td>\n",
       "      <td>NaN</td>\n",
       "      <td>NaN</td>\n",
       "      <td>NaN</td>\n",
       "      <td>67455.782631</td>\n",
       "      <td>NaN</td>\n",
       "      <td>NaN</td>\n",
       "    </tr>\n",
       "  </tbody>\n",
       "</table>\n",
       "<p>5 rows × 41 columns</p>\n",
       "</div>"
      ],
      "text/plain": [
       "   Respondent                                       Professional  \\\n",
       "0           1                                            Student   \n",
       "1           2                                            Student   \n",
       "2           3                             Professional developer   \n",
       "3           4  Professional non-developer who sometimes write...   \n",
       "4           5                             Professional developer   \n",
       "\n",
       "                ProgramHobby         Country      University  \\\n",
       "0                  Yes, both   United States              No   \n",
       "1                  Yes, both  United Kingdom  Yes, full-time   \n",
       "2                  Yes, both  United Kingdom              No   \n",
       "3                  Yes, both   United States              No   \n",
       "4  Yes, I program as a hobby     Switzerland              No   \n",
       "\n",
       "                         EmploymentStatus  \\\n",
       "0  Not employed, and not looking for work   \n",
       "1                      Employed part-time   \n",
       "2                      Employed full-time   \n",
       "3                      Employed full-time   \n",
       "4                      Employed full-time   \n",
       "\n",
       "                                     FormalEducation  \\\n",
       "0                                   Secondary school   \n",
       "1  Some college/university study without earning ...   \n",
       "2                                  Bachelor's degree   \n",
       "3                                    Doctoral degree   \n",
       "4                                    Master's degree   \n",
       "\n",
       "                                  MajorUndergrad     YearsCodedJob  \\\n",
       "0                                            NaN               NaN   \n",
       "1       Computer science or software engineering               NaN   \n",
       "2       Computer science or software engineering  20 or more years   \n",
       "3  A non-computer-focused engineering discipline     5 to 10 years   \n",
       "4       Computer science or software engineering    10 to 15 years   \n",
       "\n",
       "                                       DeveloperType  ...  \\\n",
       "0                                                NaN  ...   \n",
       "1                                                NaN  ...   \n",
       "2                                              Other  ...   \n",
       "3                                                NaN  ...   \n",
       "4  Mobile developer; Graphics programming; Deskto...  ...   \n",
       "\n",
       "                            WantWorkDatabase  \\\n",
       "0                                        NaN   \n",
       "1                              MySQL; SQLite   \n",
       "2                                        NaN   \n",
       "3  MongoDB; Redis; SQL Server; MySQL; SQLite   \n",
       "4                                        NaN   \n",
       "\n",
       "                                  HaveWorkedPlatform  \\\n",
       "0                                                iOS   \n",
       "1                          Amazon Web Services (AWS)   \n",
       "2                                                NaN   \n",
       "3  Windows Desktop; Linux Desktop; Mac OS; Amazon...   \n",
       "4                                                NaN   \n",
       "\n",
       "                                    WantWorkPlatform  \\\n",
       "0                                                iOS   \n",
       "1  Linux Desktop; Raspberry Pi; Amazon Web Servic...   \n",
       "2                                                NaN   \n",
       "3  Windows Desktop; Linux Desktop; Mac OS; Amazon...   \n",
       "4                                                NaN   \n",
       "\n",
       "                                                 IDE  \\\n",
       "0                                        Atom; Xcode   \n",
       "1  Atom; Notepad++; Vim; PyCharm; RubyMine; Visua...   \n",
       "2                        Sublime Text; Vim; IntelliJ   \n",
       "3  Notepad++; Sublime Text; TextMate; Vim; IPytho...   \n",
       "4                                                NaN   \n",
       "\n",
       "                                 AuditoryEnvironment Gender  \\\n",
       "0                                 Turn on some music   Male   \n",
       "1  Put on some ambient sounds (e.g. whale songs, ...   Male   \n",
       "2                                 Turn on some music   Male   \n",
       "3                                 Turn on some music   Male   \n",
       "4                                                NaN    NaN   \n",
       "\n",
       "  HighestEducationParents         Salary ExpectedSalary Assess_Scoring  \n",
       "0             High school            NaN            NaN           30.5  \n",
       "1       A master's degree            NaN        37500.0            NaN  \n",
       "2   A professional degree  113750.000000            NaN            NaN  \n",
       "3       A doctoral degree   63120.608546            NaN           28.5  \n",
       "4                     NaN   67455.782631            NaN            NaN  \n",
       "\n",
       "[5 rows x 41 columns]"
      ]
     },
     "execution_count": 3,
     "metadata": {},
     "output_type": "execute_result"
    }
   ],
   "source": [
    "data.head()"
   ]
  },
  {
   "cell_type": "markdown",
   "metadata": {},
   "source": [
    "# ImportantBenefits Analysis"
   ]
  },
  {
   "cell_type": "code",
   "execution_count": 4,
   "metadata": {},
   "outputs": [],
   "source": [
    "A=dict()\n",
    "J=list()\n",
    "for i in data['ImportantBenefits']:\n",
    "    x=i\n",
    "    x=str(x)\n",
    "    J=x.split('; ')\n",
    "    for v in J:\n",
    "        if v not in A:\n",
    "            A[v]=1\n",
    "        else:\n",
    "            A[v]=A[v]+1\n",
    "    J.clear()"
   ]
  },
  {
   "cell_type": "code",
   "execution_count": 5,
   "metadata": {},
   "outputs": [
    {
     "data": {
      "text/html": [
       "<div>\n",
       "<style scoped>\n",
       "    .dataframe tbody tr th:only-of-type {\n",
       "        vertical-align: middle;\n",
       "    }\n",
       "\n",
       "    .dataframe tbody tr th {\n",
       "        vertical-align: top;\n",
       "    }\n",
       "\n",
       "    .dataframe thead th {\n",
       "        text-align: right;\n",
       "    }\n",
       "</style>\n",
       "<table border=\"1\" class=\"dataframe\">\n",
       "  <thead>\n",
       "    <tr style=\"text-align: right;\">\n",
       "      <th></th>\n",
       "      <th>Important Benefits</th>\n",
       "      <th>Most Valued</th>\n",
       "    </tr>\n",
       "  </thead>\n",
       "  <tbody>\n",
       "    <tr>\n",
       "      <th>1</th>\n",
       "      <td>Vacation/days off</td>\n",
       "      <td>17242</td>\n",
       "    </tr>\n",
       "    <tr>\n",
       "      <th>2</th>\n",
       "      <td>Remote options</td>\n",
       "      <td>16121</td>\n",
       "    </tr>\n",
       "    <tr>\n",
       "      <th>4</th>\n",
       "      <td>Health benefits</td>\n",
       "      <td>14253</td>\n",
       "    </tr>\n",
       "    <tr>\n",
       "      <th>7</th>\n",
       "      <td>Expected work hours</td>\n",
       "      <td>13388</td>\n",
       "    </tr>\n",
       "    <tr>\n",
       "      <th>5</th>\n",
       "      <td>Equipment</td>\n",
       "      <td>12126</td>\n",
       "    </tr>\n",
       "    <tr>\n",
       "      <th>8</th>\n",
       "      <td>Professional development sponsorship</td>\n",
       "      <td>11434</td>\n",
       "    </tr>\n",
       "    <tr>\n",
       "      <th>3</th>\n",
       "      <td>Annual bonus</td>\n",
       "      <td>9560</td>\n",
       "    </tr>\n",
       "    <tr>\n",
       "      <th>12</th>\n",
       "      <td>Retirement</td>\n",
       "      <td>7959</td>\n",
       "    </tr>\n",
       "    <tr>\n",
       "      <th>9</th>\n",
       "      <td>Education sponsorship</td>\n",
       "      <td>5303</td>\n",
       "    </tr>\n",
       "    <tr>\n",
       "      <th>13</th>\n",
       "      <td>Meals</td>\n",
       "      <td>4593</td>\n",
       "    </tr>\n",
       "    <tr>\n",
       "      <th>0</th>\n",
       "      <td>Stock options</td>\n",
       "      <td>4429</td>\n",
       "    </tr>\n",
       "    <tr>\n",
       "      <th>10</th>\n",
       "      <td>Long-term leave</td>\n",
       "      <td>4355</td>\n",
       "    </tr>\n",
       "    <tr>\n",
       "      <th>6</th>\n",
       "      <td>Private office</td>\n",
       "      <td>3514</td>\n",
       "    </tr>\n",
       "    <tr>\n",
       "      <th>11</th>\n",
       "      <td>Child/elder care</td>\n",
       "      <td>2739</td>\n",
       "    </tr>\n",
       "    <tr>\n",
       "      <th>15</th>\n",
       "      <td>Other</td>\n",
       "      <td>888</td>\n",
       "    </tr>\n",
       "    <tr>\n",
       "      <th>14</th>\n",
       "      <td>Charitable match</td>\n",
       "      <td>793</td>\n",
       "    </tr>\n",
       "    <tr>\n",
       "      <th>16</th>\n",
       "      <td>None of these</td>\n",
       "      <td>747</td>\n",
       "    </tr>\n",
       "  </tbody>\n",
       "</table>\n",
       "</div>"
      ],
      "text/plain": [
       "                      Important Benefits  Most Valued\n",
       "1                      Vacation/days off        17242\n",
       "2                         Remote options        16121\n",
       "4                        Health benefits        14253\n",
       "7                    Expected work hours        13388\n",
       "5                              Equipment        12126\n",
       "8   Professional development sponsorship        11434\n",
       "3                           Annual bonus         9560\n",
       "12                            Retirement         7959\n",
       "9                  Education sponsorship         5303\n",
       "13                                 Meals         4593\n",
       "0                          Stock options         4429\n",
       "10                       Long-term leave         4355\n",
       "6                         Private office         3514\n",
       "11                      Child/elder care         2739\n",
       "15                                 Other          888\n",
       "14                      Charitable match          793\n",
       "16                         None of these          747"
      ]
     },
     "execution_count": 5,
     "metadata": {},
     "output_type": "execute_result"
    }
   ],
   "source": [
    "D8 = pd.Series(A,name=\"Important Benefits\")\n",
    "D8 = D8.drop('nan')\n",
    "D8 = D8.to_frame()\n",
    "D8 = D8.reset_index(level=0)\n",
    "D8.columns=['Important Benefits','Most Valued']\n",
    "D8 = D8.sort_values(by='Most Valued',ascending=False)\n",
    "D8"
   ]
  },
  {
   "cell_type": "code",
   "execution_count": 6,
   "metadata": {},
   "outputs": [
    {
     "data": {
      "text/plain": [
       "Text(0.5, 1.0, 'Most Valued vs Important Benefits')"
      ]
     },
     "execution_count": 6,
     "metadata": {},
     "output_type": "execute_result"
    },
    {
     "data": {
      "image/png": "[encoded data removed]",
      "text/plain": [
       "<Figure size 849.6x595.44 with 1 Axes>"
      ]
     },
     "metadata": {
      "needs_background": "light"
     },
     "output_type": "display_data"
    }
   ],
   "source": [
    "fig,ax = plt.subplots()\n",
    "fig.set_size_inches(11.8,8.27)\n",
    "s.barplot(data=D8,x='Important Benefits',y='Most Valued',palette='GnBu_r')\n",
    "plt.xticks(rotation=-45)\n",
    "plt.title('Most Valued vs Important Benefits')"
   ]
  },
  {
   "cell_type": "markdown",
   "metadata": {},
   "source": [
    "Most People prefer to have their vacation days off and to have Work-From-Home options."
   ]
  },
  {
   "cell_type": "markdown",
   "metadata": {},
   "source": [
    "# JobProfile Analysis"
   ]
  },
  {
   "cell_type": "code",
   "execution_count": 7,
   "metadata": {},
   "outputs": [],
   "source": [
    "A=dict()\n",
    "J=list()\n",
    "for i in data['JobProfile']:\n",
    "    x=i\n",
    "    x=str(x)\n",
    "    J=x.split('; ')\n",
    "    for v in J:\n",
    "        if v not in A:\n",
    "            A[v]=1\n",
    "        else:\n",
    "            A[v]=A[v]+1\n",
    "    J.clear()"
   ]
  },
  {
   "cell_type": "code",
   "execution_count": 8,
   "metadata": {},
   "outputs": [],
   "source": [
    "D9 = pd.Series(A,name=\"Job Profile Sites\")\n",
    "D9 = D9.drop('nan')\n",
    "D9 = D9.to_frame()\n",
    "D9 = D9.reset_index(level=0)\n",
    "D9.columns=['Sites for Job','Most Valued']\n",
    "D9 = D9.sort_values(by='Most Valued',ascending=False)"
   ]
  },
  {
   "cell_type": "code",
   "execution_count": 9,
   "metadata": {},
   "outputs": [
    {
     "data": {
      "text/plain": [
       "Text(0.5, 1.0, 'Sites For Job vs Most Valued')"
      ]
     },
     "execution_count": 9,
     "metadata": {},
     "output_type": "execute_result"
    },
    {
     "data": {
      "image/png": "[encoded data removed]",
      "text/plain": [
       "<Figure size 849.6x595.44 with 1 Axes>"
      ]
     },
     "metadata": {
      "needs_background": "light"
     },
     "output_type": "display_data"
    }
   ],
   "source": [
    "fig,ax = plt.subplots()\n",
    "fig.set_size_inches(11.8,8.27)\n",
    "s.barplot(data=D9,x='Sites for Job',y='Most Valued',palette='GnBu_r')\n",
    "plt.xticks(rotation=90)\n",
    "plt.title('Sites For Job vs Most Valued')"
   ]
  },
  {
   "cell_type": "markdown",
   "metadata": {},
   "source": [
    "Very Clear Analysis, Linkedin is the most sought after website to upload job profile."
   ]
  },
  {
   "cell_type": "markdown",
   "metadata": {},
   "source": [
    "# EducationTypes Analysis"
   ]
  },
  {
   "cell_type": "code",
   "execution_count": 10,
   "metadata": {},
   "outputs": [],
   "source": [
    "A=dict()\n",
    "J=list()\n",
    "for i in data['EducationTypes']:\n",
    "    x=i\n",
    "    x=str(x)\n",
    "    J=x.split('; ')\n",
    "    for v in J:\n",
    "        if v not in A:\n",
    "            A[v]=1\n",
    "        else:\n",
    "            A[v]=A[v]+1\n",
    "    J.clear()"
   ]
  },
  {
   "cell_type": "code",
   "execution_count": 11,
   "metadata": {},
   "outputs": [],
   "source": [
    "D10 = pd.Series(A,name=\"Education Types\")\n",
    "D10 = D10.drop('nan')\n",
    "D10 = D10.to_frame()\n",
    "D10 = D10.reset_index(level=0)\n",
    "D10.columns=['Education Types','Most Valued']\n",
    "D10 = D10.sort_values(by='Most Valued',ascending=False)"
   ]
  },
  {
   "cell_type": "code",
   "execution_count": 12,
   "metadata": {},
   "outputs": [
    {
     "data": {
      "text/plain": [
       "Text(0.5, 1.0, 'Most valued Eductaion Type')"
      ]
     },
     "execution_count": 12,
     "metadata": {},
     "output_type": "execute_result"
    },
    {
     "data": {
      "image/png": "[encoded data removed]",
      "text/plain": [
       "<Figure size 849.6x595.44 with 1 Axes>"
      ]
     },
     "metadata": {
      "needs_background": "light"
     },
     "output_type": "display_data"
    }
   ],
   "source": [
    "fig,ax = plt.subplots()\n",
    "fig.set_size_inches(11.8,8.27)\n",
    "s.barplot(data=D10, x='Education Types' ,y='Most Valued' ,palette='GnBu_r')\n",
    "plt.xticks(rotation=90)\n",
    "plt.title('Most valued Eductaion Type')"
   ]
  },
  {
   "cell_type": "markdown",
   "metadata": {},
   "source": [
    "# DeveloperType Analysis and Segregation"
   ]
  },
  {
   "cell_type": "code",
   "execution_count": 13,
   "metadata": {},
   "outputs": [],
   "source": [
    "A=dict()\n",
    "J=list()\n",
    "for i in data['DeveloperType']:\n",
    "    x=i\n",
    "    x=str(x)\n",
    "    J=x.split('; ')\n",
    "    for v in J:\n",
    "        if v not in A:\n",
    "            A[v]=1\n",
    "        else:\n",
    "            A[v]=A[v]+1\n",
    "    J.clear()"
   ]
  },
  {
   "cell_type": "code",
   "execution_count": 14,
   "metadata": {},
   "outputs": [],
   "source": [
    "D11=pd.Series(A,name='Developer Type')\n",
    "D11=D11.drop('nan')\n",
    "D11=D11.to_frame()\n",
    "D11=D11.reset_index(level=0)\n",
    "D11.columns=['Developer Type','Count']\n",
    "D11=D11.sort_values(by='Count',ascending=False)"
   ]
  },
  {
   "cell_type": "code",
   "execution_count": 15,
   "metadata": {
    "scrolled": true
   },
   "outputs": [
    {
     "data": {
      "text/plain": [
       "Text(0.5, 1.0, 'Most Popular Developer Type')"
      ]
     },
     "execution_count": 15,
     "metadata": {},
     "output_type": "execute_result"
    },
    {
     "data": {
      "image/png": "[encoded data removed]",
      "text/plain": [
       "<Figure size 849.6x595.44 with 1 Axes>"
      ]
     },
     "metadata": {
      "needs_background": "light"
     },
     "output_type": "display_data"
    }
   ],
   "source": [
    "fig,ax = plt.subplots()\n",
    "fig.set_size_inches(11.8,8.27)\n",
    "s.barplot(data=D11, x='Developer Type' ,y='Count' ,palette='GnBu_r')\n",
    "plt.xticks(rotation=90)\n",
    "plt.title('Most Popular Developer Type')"
   ]
  },
  {
   "cell_type": "code",
   "execution_count": 16,
   "metadata": {},
   "outputs": [
    {
     "data": {
      "text/html": [
       "<div>\n",
       "<style scoped>\n",
       "    .dataframe tbody tr th:only-of-type {\n",
       "        vertical-align: middle;\n",
       "    }\n",
       "\n",
       "    .dataframe tbody tr th {\n",
       "        vertical-align: top;\n",
       "    }\n",
       "\n",
       "    .dataframe thead th {\n",
       "        text-align: right;\n",
       "    }\n",
       "</style>\n",
       "<table border=\"1\" class=\"dataframe\">\n",
       "  <thead>\n",
       "    <tr style=\"text-align: right;\">\n",
       "      <th></th>\n",
       "      <th>Developer Type</th>\n",
       "      <th>Count</th>\n",
       "    </tr>\n",
       "  </thead>\n",
       "  <tbody>\n",
       "    <tr>\n",
       "      <th>4</th>\n",
       "      <td>Web developer</td>\n",
       "      <td>26235</td>\n",
       "    </tr>\n",
       "    <tr>\n",
       "      <th>3</th>\n",
       "      <td>Desktop applications developer</td>\n",
       "      <td>10435</td>\n",
       "    </tr>\n",
       "    <tr>\n",
       "      <th>1</th>\n",
       "      <td>Mobile developer</td>\n",
       "      <td>8326</td>\n",
       "    </tr>\n",
       "    <tr>\n",
       "      <th>11</th>\n",
       "      <td>Database administrator</td>\n",
       "      <td>5192</td>\n",
       "    </tr>\n",
       "    <tr>\n",
       "      <th>10</th>\n",
       "      <td>Developer with a statistics or mathematics bac...</td>\n",
       "      <td>4091</td>\n",
       "    </tr>\n",
       "    <tr>\n",
       "      <th>12</th>\n",
       "      <td>Systems administrator</td>\n",
       "      <td>4086</td>\n",
       "    </tr>\n",
       "    <tr>\n",
       "      <th>6</th>\n",
       "      <td>DevOps specialist</td>\n",
       "      <td>4015</td>\n",
       "    </tr>\n",
       "    <tr>\n",
       "      <th>5</th>\n",
       "      <td>Embedded applications/devices developer</td>\n",
       "      <td>3352</td>\n",
       "    </tr>\n",
       "    <tr>\n",
       "      <th>8</th>\n",
       "      <td>Data scientist</td>\n",
       "      <td>3045</td>\n",
       "    </tr>\n",
       "    <tr>\n",
       "      <th>0</th>\n",
       "      <td>Other</td>\n",
       "      <td>2694</td>\n",
       "    </tr>\n",
       "    <tr>\n",
       "      <th>2</th>\n",
       "      <td>Graphics programming</td>\n",
       "      <td>1731</td>\n",
       "    </tr>\n",
       "    <tr>\n",
       "      <th>13</th>\n",
       "      <td>Graphic designer</td>\n",
       "      <td>1426</td>\n",
       "    </tr>\n",
       "    <tr>\n",
       "      <th>9</th>\n",
       "      <td>Machine learning specialist</td>\n",
       "      <td>1379</td>\n",
       "    </tr>\n",
       "    <tr>\n",
       "      <th>7</th>\n",
       "      <td>Quality assurance engineer</td>\n",
       "      <td>1252</td>\n",
       "    </tr>\n",
       "  </tbody>\n",
       "</table>\n",
       "</div>"
      ],
      "text/plain": [
       "                                       Developer Type  Count\n",
       "4                                       Web developer  26235\n",
       "3                      Desktop applications developer  10435\n",
       "1                                    Mobile developer   8326\n",
       "11                             Database administrator   5192\n",
       "10  Developer with a statistics or mathematics bac...   4091\n",
       "12                              Systems administrator   4086\n",
       "6                                   DevOps specialist   4015\n",
       "5             Embedded applications/devices developer   3352\n",
       "8                                      Data scientist   3045\n",
       "0                                               Other   2694\n",
       "2                                Graphics programming   1731\n",
       "13                                   Graphic designer   1426\n",
       "9                         Machine learning specialist   1379\n",
       "7                          Quality assurance engineer   1252"
      ]
     },
     "execution_count": 16,
     "metadata": {},
     "output_type": "execute_result"
    }
   ],
   "source": [
    "D11"
   ]
  },
  {
   "cell_type": "code",
   "execution_count": 17,
   "metadata": {},
   "outputs": [],
   "source": [
    "D=dict()\n",
    "J=list()\n",
    "for i in range(data.shape[0]):\n",
    "    x=data.iloc[i]['DeveloperType']\n",
    "    J=str(x).split('; ')\n",
    "    if pd.isna(data.iloc[i]['Salary']):\n",
    "            continue\n",
    "    for v in J:\n",
    "        if v not in D:\n",
    "            D[v]=[1,data.iloc[i]['Salary']]\n",
    "        else:\n",
    "            D[v][0]=D[v][0]+1\n",
    "            D[v][1]=D[v][1]+data.iloc[i]['Salary']\n",
    "    J.clear()"
   ]
  },
  {
   "cell_type": "code",
   "execution_count": 18,
   "metadata": {},
   "outputs": [],
   "source": [
    "D=pd.Series(D)\n",
    "D=D.to_frame()"
   ]
  },
  {
   "cell_type": "code",
   "execution_count": 19,
   "metadata": {
    "scrolled": false
   },
   "outputs": [],
   "source": [
    "D=D.drop(['Other','nan'])"
   ]
  },
  {
   "cell_type": "code",
   "execution_count": 20,
   "metadata": {
    "scrolled": false
   },
   "outputs": [],
   "source": [
    "D=D.reset_index()"
   ]
  },
  {
   "cell_type": "code",
   "execution_count": 21,
   "metadata": {
    "scrolled": false
   },
   "outputs": [
    {
     "data": {
      "text/html": [
       "<div>\n",
       "<style scoped>\n",
       "    .dataframe tbody tr th:only-of-type {\n",
       "        vertical-align: middle;\n",
       "    }\n",
       "\n",
       "    .dataframe tbody tr th {\n",
       "        vertical-align: top;\n",
       "    }\n",
       "\n",
       "    .dataframe thead th {\n",
       "        text-align: right;\n",
       "    }\n",
       "</style>\n",
       "<table border=\"1\" class=\"dataframe\">\n",
       "  <thead>\n",
       "    <tr style=\"text-align: right;\">\n",
       "      <th></th>\n",
       "      <th>index</th>\n",
       "      <th>0</th>\n",
       "    </tr>\n",
       "  </thead>\n",
       "  <tbody>\n",
       "    <tr>\n",
       "      <th>0</th>\n",
       "      <td>Mobile developer</td>\n",
       "      <td>[8268, 442284935.8902686]</td>\n",
       "    </tr>\n",
       "    <tr>\n",
       "      <th>1</th>\n",
       "      <td>Graphics programming</td>\n",
       "      <td>[1712, 97536556.22472183]</td>\n",
       "    </tr>\n",
       "    <tr>\n",
       "      <th>2</th>\n",
       "      <td>Desktop applications developer</td>\n",
       "      <td>[10372, 617512928.1992197]</td>\n",
       "    </tr>\n",
       "    <tr>\n",
       "      <th>3</th>\n",
       "      <td>Web developer</td>\n",
       "      <td>[26075, 1451763306.8889296]</td>\n",
       "    </tr>\n",
       "    <tr>\n",
       "      <th>4</th>\n",
       "      <td>Embedded applications/devices developer</td>\n",
       "      <td>[3328, 204692341.5265022]</td>\n",
       "    </tr>\n",
       "    <tr>\n",
       "      <th>5</th>\n",
       "      <td>DevOps specialist</td>\n",
       "      <td>[3994, 254005218.36286983]</td>\n",
       "    </tr>\n",
       "    <tr>\n",
       "      <th>6</th>\n",
       "      <td>Quality assurance engineer</td>\n",
       "      <td>[1245, 72453906.89667086]</td>\n",
       "    </tr>\n",
       "    <tr>\n",
       "      <th>7</th>\n",
       "      <td>Data scientist</td>\n",
       "      <td>[3011, 179075164.23271018]</td>\n",
       "    </tr>\n",
       "    <tr>\n",
       "      <th>8</th>\n",
       "      <td>Machine learning specialist</td>\n",
       "      <td>[1362, 82823913.68550089]</td>\n",
       "    </tr>\n",
       "    <tr>\n",
       "      <th>9</th>\n",
       "      <td>Developer with a statistics or mathematics bac...</td>\n",
       "      <td>[4059, 248512822.03122818]</td>\n",
       "    </tr>\n",
       "    <tr>\n",
       "      <th>10</th>\n",
       "      <td>Database administrator</td>\n",
       "      <td>[5164, 301245900.52049017]</td>\n",
       "    </tr>\n",
       "    <tr>\n",
       "      <th>11</th>\n",
       "      <td>Systems administrator</td>\n",
       "      <td>[4061, 239802392.5530475]</td>\n",
       "    </tr>\n",
       "    <tr>\n",
       "      <th>12</th>\n",
       "      <td>Graphic designer</td>\n",
       "      <td>[1411, 72922331.39831944]</td>\n",
       "    </tr>\n",
       "  </tbody>\n",
       "</table>\n",
       "</div>"
      ],
      "text/plain": [
       "                                                index  \\\n",
       "0                                    Mobile developer   \n",
       "1                                Graphics programming   \n",
       "2                      Desktop applications developer   \n",
       "3                                       Web developer   \n",
       "4             Embedded applications/devices developer   \n",
       "5                                   DevOps specialist   \n",
       "6                          Quality assurance engineer   \n",
       "7                                      Data scientist   \n",
       "8                         Machine learning specialist   \n",
       "9   Developer with a statistics or mathematics bac...   \n",
       "10                             Database administrator   \n",
       "11                              Systems administrator   \n",
       "12                                   Graphic designer   \n",
       "\n",
       "                              0  \n",
       "0     [8268, 442284935.8902686]  \n",
       "1     [1712, 97536556.22472183]  \n",
       "2    [10372, 617512928.1992197]  \n",
       "3   [26075, 1451763306.8889296]  \n",
       "4     [3328, 204692341.5265022]  \n",
       "5    [3994, 254005218.36286983]  \n",
       "6     [1245, 72453906.89667086]  \n",
       "7    [3011, 179075164.23271018]  \n",
       "8     [1362, 82823913.68550089]  \n",
       "9    [4059, 248512822.03122818]  \n",
       "10   [5164, 301245900.52049017]  \n",
       "11    [4061, 239802392.5530475]  \n",
       "12    [1411, 72922331.39831944]  "
      ]
     },
     "execution_count": 21,
     "metadata": {},
     "output_type": "execute_result"
    }
   ],
   "source": [
    "D"
   ]
  },
  {
   "cell_type": "code",
   "execution_count": 22,
   "metadata": {
    "scrolled": false
   },
   "outputs": [],
   "source": [
    "#df.DataFrame(df['Col'].to_list(), columns = ['c1', 'c2', 'c3'])\n",
    "A=pd.DataFrame(D[0].to_list(), columns = ['Count', 'Sal'])"
   ]
  },
  {
   "cell_type": "code",
   "execution_count": 23,
   "metadata": {
    "scrolled": true
   },
   "outputs": [],
   "source": [
    "Ab=pd.merge(D,A,left_on=D.index,right_on=A.index)"
   ]
  },
  {
   "cell_type": "code",
   "execution_count": 24,
   "metadata": {},
   "outputs": [],
   "source": [
    "Ab=Ab.drop(['key_0',0],axis=1)"
   ]
  },
  {
   "cell_type": "code",
   "execution_count": 25,
   "metadata": {
    "scrolled": false
   },
   "outputs": [],
   "source": [
    "Ab['Avg_Salary']=Ab['Sal']/Ab['Count']\n",
    "\n",
    "Ab=Ab.sort_values(by=['Avg_Salary'],ascending=False)"
   ]
  },
  {
   "cell_type": "code",
   "execution_count": 43,
   "metadata": {},
   "outputs": [
    {
     "data": {
      "text/plain": [
       "([0, 1, 2, 3, 4, 5, 6, 7, 8, 9, 10, 11, 12],\n",
       " <a list of 13 Text major ticklabel objects>)"
      ]
     },
     "execution_count": 43,
     "metadata": {},
     "output_type": "execute_result"
    },
    {
     "data": {
      "image/png": "[encoded data removed]",
      "text/plain": [
       "<Figure size 432x288 with 1 Axes>"
      ]
     },
     "metadata": {
      "needs_background": "light"
     },
     "output_type": "display_data"
    }
   ],
   "source": [
    "s.lineplot(data=Ab,x='index',y='Avg_Salary')\n",
    "plt.xticks(rotation=90)"
   ]
  },
  {
   "cell_type": "markdown",
   "metadata": {},
   "source": [
    "The top roles in DevOps include DevOps Architect, DevOps Engineer, DevOps manager, Security Engineer, Automation Engineer, and Release manager. The demand for these engineers are always high. Hence, they are paid higher salaries"
   ]
  },
  {
   "cell_type": "markdown",
   "metadata": {},
   "source": [
    "# Non-Developer Types Analysis"
   ]
  },
  {
   "cell_type": "code",
   "execution_count": 44,
   "metadata": {},
   "outputs": [
    {
     "data": {
      "text/plain": [
       "{'.': 1,\n",
       " 'nan': 46501,\n",
       " 'Data scientist': 1100,\n",
       " 'Other': 1558,\n",
       " 'C-suite executive': 257,\n",
       " 'Product manager': 365,\n",
       " 'Educator or academic': 732,\n",
       " 'Analyst or consultant': 1897,\n",
       " 'Marketing or sales manager': 152,\n",
       " 'Designer or illustrator': 600,\n",
       " 'Elected official': 34}"
      ]
     },
     "execution_count": 44,
     "metadata": {},
     "output_type": "execute_result"
    }
   ],
   "source": [
    "A=dict()\n",
    "J=list()\n",
    "for i in data['NonDeveloperType']:\n",
    "    x=i\n",
    "    x=str(x)\n",
    "    J=x.split('; ')\n",
    "    for v in J:\n",
    "        if v not in A:\n",
    "            A[v]=1\n",
    "        else:\n",
    "            A[v]=A[v]+1\n",
    "    J.clear()\n",
    "A"
   ]
  },
  {
   "cell_type": "code",
   "execution_count": 45,
   "metadata": {},
   "outputs": [],
   "source": [
    "D12=pd.Series(A,name='Non-Developer Type')\n",
    "D12=D12.drop('nan')\n",
    "D12=D12.drop('Other')\n",
    "D12=D12.drop('.')\n",
    "D12=D12.to_frame()\n",
    "D12=D12.reset_index(level=0)\n",
    "D12.columns=['Non-Developer Type','Count']\n",
    "D12=D12.sort_values(by='Count',ascending=False)"
   ]
  },
  {
   "cell_type": "code",
   "execution_count": 46,
   "metadata": {},
   "outputs": [
    {
     "data": {
      "text/plain": [
       "Text(0.5, 1.0, 'Most Popular Non-Developer Type')"
      ]
     },
     "execution_count": 46,
     "metadata": {},
     "output_type": "execute_result"
    },
    {
     "data": {
      "image/png": "[encoded data removed]",
      "text/plain": [
       "<Figure size 849.6x595.44 with 1 Axes>"
      ]
     },
     "metadata": {
      "needs_background": "light"
     },
     "output_type": "display_data"
    }
   ],
   "source": [
    "fig,ax=plt.subplots()\n",
    "fig.set_size_inches(11.8,8.27)\n",
    "s.barplot(data=D12,x='Non-Developer Type',y='Count')\n",
    "D12=D12.sort_values(by='Count',ascending=False)\n",
    "plt.xticks(rotation=90)\n",
    "plt.title('Most Popular Non-Developer Type')"
   ]
  },
  {
   "cell_type": "code",
   "execution_count": null,
   "metadata": {},
   "outputs": [],
   "source": []
  }
 ],
 "metadata": {
  "kernelspec": {
   "display_name": "Python 3",
   "language": "python",
   "name": "python3"
  },
  "language_info": {
   "codemirror_mode": {
    "name": "ipython",
    "version": 3
   },
   "file_extension": ".py",
   "mimetype": "text/x-python",
   "name": "python",
   "nbconvert_exporter": "python",
   "pygments_lexer": "ipython3",
   "version": "3.8.3"
  }
 },
 "nbformat": 4,
 "nbformat_minor": 4
}
