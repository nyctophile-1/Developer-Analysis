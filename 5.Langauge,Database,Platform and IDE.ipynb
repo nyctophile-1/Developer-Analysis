{
 "cells": [
  {
   "cell_type": "code",
   "execution_count": 1,
   "metadata": {},
   "outputs": [],
   "source": [
    "import pandas as pd\n",
    "import numpy as np\n",
    "import matplotlib.pyplot as plt\n",
    "import seaborn as s\n",
    "%matplotlib inline"
   ]
  },
  {
   "cell_type": "code",
   "execution_count": 2,
   "metadata": {},
   "outputs": [],
   "source": [
    "data = pd.read_csv(\"updatedDatasets/Update3.csv\")"
   ]
  },
  {
   "cell_type": "code",
   "execution_count": 3,
   "metadata": {},
   "outputs": [
    {
     "data": {
      "text/html": [
       "<div>\n",
       "<style scoped>\n",
       "    .dataframe tbody tr th:only-of-type {\n",
       "        vertical-align: middle;\n",
       "    }\n",
       "\n",
       "    .dataframe tbody tr th {\n",
       "        vertical-align: top;\n",
       "    }\n",
       "\n",
       "    .dataframe thead th {\n",
       "        text-align: right;\n",
       "    }\n",
       "</style>\n",
       "<table border=\"1\" class=\"dataframe\">\n",
       "  <thead>\n",
       "    <tr style=\"text-align: right;\">\n",
       "      <th></th>\n",
       "      <th>Respondent</th>\n",
       "      <th>Professional</th>\n",
       "      <th>ProgramHobby</th>\n",
       "      <th>Country</th>\n",
       "      <th>University</th>\n",
       "      <th>EmploymentStatus</th>\n",
       "      <th>FormalEducation</th>\n",
       "      <th>MajorUndergrad</th>\n",
       "      <th>YearsCodedJob</th>\n",
       "      <th>DeveloperType</th>\n",
       "      <th>...</th>\n",
       "      <th>WantWorkDatabase</th>\n",
       "      <th>HaveWorkedPlatform</th>\n",
       "      <th>WantWorkPlatform</th>\n",
       "      <th>IDE</th>\n",
       "      <th>AuditoryEnvironment</th>\n",
       "      <th>Gender</th>\n",
       "      <th>HighestEducationParents</th>\n",
       "      <th>Salary</th>\n",
       "      <th>ExpectedSalary</th>\n",
       "      <th>Assess_Scoring</th>\n",
       "    </tr>\n",
       "  </thead>\n",
       "  <tbody>\n",
       "    <tr>\n",
       "      <th>0</th>\n",
       "      <td>1</td>\n",
       "      <td>Student</td>\n",
       "      <td>Yes, both</td>\n",
       "      <td>United States</td>\n",
       "      <td>No</td>\n",
       "      <td>Not employed, and not looking for work</td>\n",
       "      <td>Secondary school</td>\n",
       "      <td>NaN</td>\n",
       "      <td>NaN</td>\n",
       "      <td>NaN</td>\n",
       "      <td>...</td>\n",
       "      <td>NaN</td>\n",
       "      <td>iOS</td>\n",
       "      <td>iOS</td>\n",
       "      <td>Atom; Xcode</td>\n",
       "      <td>Turn on some music</td>\n",
       "      <td>Male</td>\n",
       "      <td>High school</td>\n",
       "      <td>NaN</td>\n",
       "      <td>NaN</td>\n",
       "      <td>30.5</td>\n",
       "    </tr>\n",
       "    <tr>\n",
       "      <th>1</th>\n",
       "      <td>2</td>\n",
       "      <td>Student</td>\n",
       "      <td>Yes, both</td>\n",
       "      <td>United Kingdom</td>\n",
       "      <td>Yes, full-time</td>\n",
       "      <td>Employed part-time</td>\n",
       "      <td>Some college/university study without earning ...</td>\n",
       "      <td>Computer science or software engineering</td>\n",
       "      <td>NaN</td>\n",
       "      <td>NaN</td>\n",
       "      <td>...</td>\n",
       "      <td>MySQL; SQLite</td>\n",
       "      <td>Amazon Web Services (AWS)</td>\n",
       "      <td>Linux Desktop; Raspberry Pi; Amazon Web Servic...</td>\n",
       "      <td>Atom; Notepad++; Vim; PyCharm; RubyMine; Visua...</td>\n",
       "      <td>Put on some ambient sounds (e.g. whale songs, ...</td>\n",
       "      <td>Male</td>\n",
       "      <td>A master's degree</td>\n",
       "      <td>NaN</td>\n",
       "      <td>37500.0</td>\n",
       "      <td>NaN</td>\n",
       "    </tr>\n",
       "  </tbody>\n",
       "</table>\n",
       "<p>2 rows × 41 columns</p>\n",
       "</div>"
      ],
      "text/plain": [
       "   Respondent Professional ProgramHobby         Country      University  \\\n",
       "0           1      Student    Yes, both   United States              No   \n",
       "1           2      Student    Yes, both  United Kingdom  Yes, full-time   \n",
       "\n",
       "                         EmploymentStatus  \\\n",
       "0  Not employed, and not looking for work   \n",
       "1                      Employed part-time   \n",
       "\n",
       "                                     FormalEducation  \\\n",
       "0                                   Secondary school   \n",
       "1  Some college/university study without earning ...   \n",
       "\n",
       "                             MajorUndergrad YearsCodedJob DeveloperType  ...  \\\n",
       "0                                       NaN           NaN           NaN  ...   \n",
       "1  Computer science or software engineering           NaN           NaN  ...   \n",
       "\n",
       "  WantWorkDatabase         HaveWorkedPlatform  \\\n",
       "0              NaN                        iOS   \n",
       "1    MySQL; SQLite  Amazon Web Services (AWS)   \n",
       "\n",
       "                                    WantWorkPlatform  \\\n",
       "0                                                iOS   \n",
       "1  Linux Desktop; Raspberry Pi; Amazon Web Servic...   \n",
       "\n",
       "                                                 IDE  \\\n",
       "0                                        Atom; Xcode   \n",
       "1  Atom; Notepad++; Vim; PyCharm; RubyMine; Visua...   \n",
       "\n",
       "                                 AuditoryEnvironment Gender  \\\n",
       "0                                 Turn on some music   Male   \n",
       "1  Put on some ambient sounds (e.g. whale songs, ...   Male   \n",
       "\n",
       "  HighestEducationParents Salary ExpectedSalary Assess_Scoring  \n",
       "0             High school    NaN            NaN           30.5  \n",
       "1       A master's degree    NaN        37500.0            NaN  \n",
       "\n",
       "[2 rows x 41 columns]"
      ]
     },
     "execution_count": 3,
     "metadata": {},
     "output_type": "execute_result"
    }
   ],
   "source": [
    "data.head(2)"
   ]
  },
  {
   "cell_type": "markdown",
   "metadata": {},
   "source": [
    "#  [IDE] Segregation, Cleaning and Analysis"
   ]
  },
  {
   "cell_type": "code",
   "execution_count": 4,
   "metadata": {},
   "outputs": [],
   "source": [
    "dataT = data[data['IDE'].notna()]"
   ]
  },
  {
   "cell_type": "code",
   "execution_count": 5,
   "metadata": {},
   "outputs": [],
   "source": [
    "A = {}\n",
    "J = list()\n",
    "for i in dataT['IDE']:\n",
    "    x = i\n",
    "    J = str(x).split('; ')\n",
    "    for v in J:\n",
    "        if v not in A:\n",
    "            A[v]=1\n",
    "        else:\n",
    "            A[v]=A[v]+1;\n",
    "    J.clear()"
   ]
  },
  {
   "cell_type": "code",
   "execution_count": 6,
   "metadata": {
    "scrolled": false
   },
   "outputs": [
    {
     "data": {
      "text/plain": [
       "{'Atom': 6540,\n",
       " 'Xcode': 3850,\n",
       " 'Notepad++': 12681,\n",
       " 'Vim': 9679,\n",
       " 'PyCharm': 3268,\n",
       " 'RubyMine': 613,\n",
       " 'Visual Studio': 13677,\n",
       " 'Visual Studio Code': 6826,\n",
       " 'Sublime Text': 9978,\n",
       " 'IntelliJ': 7418,\n",
       " 'TextMate': 439,\n",
       " 'IPython / Jupyter': 1914,\n",
       " 'NetBeans': 2909,\n",
       " 'Emacs': 1956,\n",
       " 'Coda': 227,\n",
       " 'PHPStorm': 2965,\n",
       " 'Android Studio': 5953,\n",
       " 'RStudio': 996,\n",
       " 'Komodo': 254,\n",
       " 'Eclipse': 7899,\n",
       " 'Light Table': 70,\n",
       " 'Zend': 156}"
      ]
     },
     "execution_count": 6,
     "metadata": {},
     "output_type": "execute_result"
    }
   ],
   "source": [
    "A"
   ]
  },
  {
   "cell_type": "code",
   "execution_count": 7,
   "metadata": {},
   "outputs": [],
   "source": [
    "D1 = pd.DataFrame.from_dict(A,orient='index')"
   ]
  },
  {
   "cell_type": "code",
   "execution_count": 8,
   "metadata": {},
   "outputs": [],
   "source": [
    "D1=D1.reset_index(level=0)"
   ]
  },
  {
   "cell_type": "code",
   "execution_count": 9,
   "metadata": {},
   "outputs": [],
   "source": [
    "D1.columns=['IDE','Users']"
   ]
  },
  {
   "cell_type": "code",
   "execution_count": 10,
   "metadata": {},
   "outputs": [],
   "source": [
    "D1 = D1.sort_values(by='Users',ascending=False)"
   ]
  },
  {
   "cell_type": "code",
   "execution_count": 11,
   "metadata": {},
   "outputs": [
    {
     "data": {
      "image/png": "[encoded data removed]",
      "text/plain": [
       "<Figure size 842.4x595.44 with 1 Axes>"
      ]
     },
     "metadata": {
      "needs_background": "light"
     },
     "output_type": "display_data"
    }
   ],
   "source": [
    "fig, ax = plt.subplots()\n",
    "fig.set_size_inches(11.7, 8.27)\n",
    "s.barplot(data=D1,x='IDE',y='Users',order=D1['IDE'],palette='GnBu_r')\n",
    "plt.title('Popular IDEs')\n",
    "plt.xticks(rotation=90)\n",
    "plt.show()"
   ]
  },
  {
   "cell_type": "markdown",
   "metadata": {},
   "source": [
    "Thus, we see that Visual Studio, Notepad++ and Sublime Text are amongst the top IDE tools preferred by the developers."
   ]
  },
  {
   "cell_type": "markdown",
   "metadata": {},
   "source": [
    "Visual Studio features a lightning fast source code editor, perfect for day-to-day use. Visual Studio includes built-in support for IntelliSense code completion, rich semantic code understanding and navigation, and code refactoring."
   ]
  },
  {
   "cell_type": "markdown",
   "metadata": {},
   "source": [
    "# [HaveWorkedLanguage] Segregation, Cleaning and Analysis"
   ]
  },
  {
   "cell_type": "code",
   "execution_count": 12,
   "metadata": {},
   "outputs": [],
   "source": [
    "dataT = data[data['HaveWorkedLanguage'].notna()]"
   ]
  },
  {
   "cell_type": "code",
   "execution_count": 13,
   "metadata": {},
   "outputs": [
    {
     "data": {
      "text/plain": [
       "8438"
      ]
     },
     "execution_count": 13,
     "metadata": {},
     "output_type": "execute_result"
    }
   ],
   "source": [
    "dataT['HaveWorkedLanguage'].nunique()"
   ]
  },
  {
   "cell_type": "code",
   "execution_count": 14,
   "metadata": {},
   "outputs": [],
   "source": [
    "A = {}\n",
    "J = list()\n",
    "for i in dataT['HaveWorkedLanguage']:\n",
    "    x = i\n",
    "    x = str(x)\n",
    "    L = x.split(';')\n",
    "    \n",
    "    for k in L:\n",
    "        J.append(k.strip())\n",
    "    for v in J:\n",
    "        if v not in A:\n",
    "            A[v]=1\n",
    "        else:\n",
    "            A[v]=A[v]+1;\n",
    "    J.clear()"
   ]
  },
  {
   "cell_type": "code",
   "execution_count": 15,
   "metadata": {},
   "outputs": [
    {
     "data": {
      "text/plain": [
       "{'Swift': 2368,\n",
       " 'JavaScript': 22875,\n",
       " 'Python': 11704,\n",
       " 'Ruby': 3324,\n",
       " 'SQL': 18754,\n",
       " 'Java': 14524,\n",
       " 'PHP': 10290,\n",
       " 'Matlab': 1569,\n",
       " 'R': 1634,\n",
       " 'Rust': 416,\n",
       " 'CoffeeScript': 1192,\n",
       " 'Clojure': 391,\n",
       " 'Elixir': 380,\n",
       " 'Erlang': 281,\n",
       " 'Haskell': 649,\n",
       " 'C#': 12476,\n",
       " 'Objective-C': 2349,\n",
       " 'C': 6974,\n",
       " 'C++': 8155,\n",
       " 'Assembly': 1823,\n",
       " 'VB.NET': 2273,\n",
       " 'Perl': 1585,\n",
       " 'Scala': 1309,\n",
       " 'F#': 457,\n",
       " 'TypeScript': 3488,\n",
       " 'Lua': 1039,\n",
       " 'VBA': 1574,\n",
       " 'Groovy': 1193,\n",
       " 'Go': 1557,\n",
       " 'Smalltalk': 327,\n",
       " 'Visual Basic 6': 1071,\n",
       " 'Common Lisp': 273,\n",
       " 'Dart': 145,\n",
       " 'Julia': 138,\n",
       " 'Hack': 107}"
      ]
     },
     "execution_count": 15,
     "metadata": {},
     "output_type": "execute_result"
    }
   ],
   "source": [
    "A"
   ]
  },
  {
   "cell_type": "code",
   "execution_count": 16,
   "metadata": {},
   "outputs": [
    {
     "data": {
      "text/html": [
       "<div>\n",
       "<style scoped>\n",
       "    .dataframe tbody tr th:only-of-type {\n",
       "        vertical-align: middle;\n",
       "    }\n",
       "\n",
       "    .dataframe tbody tr th {\n",
       "        vertical-align: top;\n",
       "    }\n",
       "\n",
       "    .dataframe thead th {\n",
       "        text-align: right;\n",
       "    }\n",
       "</style>\n",
       "<table border=\"1\" class=\"dataframe\">\n",
       "  <thead>\n",
       "    <tr style=\"text-align: right;\">\n",
       "      <th></th>\n",
       "      <th>Language</th>\n",
       "      <th>Users</th>\n",
       "    </tr>\n",
       "  </thead>\n",
       "  <tbody>\n",
       "    <tr>\n",
       "      <th>0</th>\n",
       "      <td>Swift</td>\n",
       "      <td>2368</td>\n",
       "    </tr>\n",
       "    <tr>\n",
       "      <th>1</th>\n",
       "      <td>JavaScript</td>\n",
       "      <td>22875</td>\n",
       "    </tr>\n",
       "    <tr>\n",
       "      <th>2</th>\n",
       "      <td>Python</td>\n",
       "      <td>11704</td>\n",
       "    </tr>\n",
       "    <tr>\n",
       "      <th>3</th>\n",
       "      <td>Ruby</td>\n",
       "      <td>3324</td>\n",
       "    </tr>\n",
       "    <tr>\n",
       "      <th>4</th>\n",
       "      <td>SQL</td>\n",
       "      <td>18754</td>\n",
       "    </tr>\n",
       "    <tr>\n",
       "      <th>5</th>\n",
       "      <td>Java</td>\n",
       "      <td>14524</td>\n",
       "    </tr>\n",
       "    <tr>\n",
       "      <th>6</th>\n",
       "      <td>PHP</td>\n",
       "      <td>10290</td>\n",
       "    </tr>\n",
       "    <tr>\n",
       "      <th>7</th>\n",
       "      <td>Matlab</td>\n",
       "      <td>1569</td>\n",
       "    </tr>\n",
       "    <tr>\n",
       "      <th>8</th>\n",
       "      <td>R</td>\n",
       "      <td>1634</td>\n",
       "    </tr>\n",
       "    <tr>\n",
       "      <th>9</th>\n",
       "      <td>Rust</td>\n",
       "      <td>416</td>\n",
       "    </tr>\n",
       "    <tr>\n",
       "      <th>10</th>\n",
       "      <td>CoffeeScript</td>\n",
       "      <td>1192</td>\n",
       "    </tr>\n",
       "    <tr>\n",
       "      <th>11</th>\n",
       "      <td>Clojure</td>\n",
       "      <td>391</td>\n",
       "    </tr>\n",
       "    <tr>\n",
       "      <th>12</th>\n",
       "      <td>Elixir</td>\n",
       "      <td>380</td>\n",
       "    </tr>\n",
       "    <tr>\n",
       "      <th>13</th>\n",
       "      <td>Erlang</td>\n",
       "      <td>281</td>\n",
       "    </tr>\n",
       "    <tr>\n",
       "      <th>14</th>\n",
       "      <td>Haskell</td>\n",
       "      <td>649</td>\n",
       "    </tr>\n",
       "    <tr>\n",
       "      <th>15</th>\n",
       "      <td>C#</td>\n",
       "      <td>12476</td>\n",
       "    </tr>\n",
       "    <tr>\n",
       "      <th>16</th>\n",
       "      <td>Objective-C</td>\n",
       "      <td>2349</td>\n",
       "    </tr>\n",
       "    <tr>\n",
       "      <th>17</th>\n",
       "      <td>C</td>\n",
       "      <td>6974</td>\n",
       "    </tr>\n",
       "    <tr>\n",
       "      <th>18</th>\n",
       "      <td>C++</td>\n",
       "      <td>8155</td>\n",
       "    </tr>\n",
       "    <tr>\n",
       "      <th>19</th>\n",
       "      <td>Assembly</td>\n",
       "      <td>1823</td>\n",
       "    </tr>\n",
       "    <tr>\n",
       "      <th>20</th>\n",
       "      <td>VB.NET</td>\n",
       "      <td>2273</td>\n",
       "    </tr>\n",
       "    <tr>\n",
       "      <th>21</th>\n",
       "      <td>Perl</td>\n",
       "      <td>1585</td>\n",
       "    </tr>\n",
       "    <tr>\n",
       "      <th>22</th>\n",
       "      <td>Scala</td>\n",
       "      <td>1309</td>\n",
       "    </tr>\n",
       "    <tr>\n",
       "      <th>23</th>\n",
       "      <td>F#</td>\n",
       "      <td>457</td>\n",
       "    </tr>\n",
       "    <tr>\n",
       "      <th>24</th>\n",
       "      <td>TypeScript</td>\n",
       "      <td>3488</td>\n",
       "    </tr>\n",
       "    <tr>\n",
       "      <th>25</th>\n",
       "      <td>Lua</td>\n",
       "      <td>1039</td>\n",
       "    </tr>\n",
       "    <tr>\n",
       "      <th>26</th>\n",
       "      <td>VBA</td>\n",
       "      <td>1574</td>\n",
       "    </tr>\n",
       "    <tr>\n",
       "      <th>27</th>\n",
       "      <td>Groovy</td>\n",
       "      <td>1193</td>\n",
       "    </tr>\n",
       "    <tr>\n",
       "      <th>28</th>\n",
       "      <td>Go</td>\n",
       "      <td>1557</td>\n",
       "    </tr>\n",
       "    <tr>\n",
       "      <th>29</th>\n",
       "      <td>Smalltalk</td>\n",
       "      <td>327</td>\n",
       "    </tr>\n",
       "    <tr>\n",
       "      <th>30</th>\n",
       "      <td>Visual Basic 6</td>\n",
       "      <td>1071</td>\n",
       "    </tr>\n",
       "    <tr>\n",
       "      <th>31</th>\n",
       "      <td>Common Lisp</td>\n",
       "      <td>273</td>\n",
       "    </tr>\n",
       "    <tr>\n",
       "      <th>32</th>\n",
       "      <td>Dart</td>\n",
       "      <td>145</td>\n",
       "    </tr>\n",
       "    <tr>\n",
       "      <th>33</th>\n",
       "      <td>Julia</td>\n",
       "      <td>138</td>\n",
       "    </tr>\n",
       "    <tr>\n",
       "      <th>34</th>\n",
       "      <td>Hack</td>\n",
       "      <td>107</td>\n",
       "    </tr>\n",
       "  </tbody>\n",
       "</table>\n",
       "</div>"
      ],
      "text/plain": [
       "          Language  Users\n",
       "0            Swift   2368\n",
       "1       JavaScript  22875\n",
       "2           Python  11704\n",
       "3             Ruby   3324\n",
       "4              SQL  18754\n",
       "5             Java  14524\n",
       "6              PHP  10290\n",
       "7           Matlab   1569\n",
       "8                R   1634\n",
       "9             Rust    416\n",
       "10    CoffeeScript   1192\n",
       "11         Clojure    391\n",
       "12          Elixir    380\n",
       "13          Erlang    281\n",
       "14         Haskell    649\n",
       "15              C#  12476\n",
       "16     Objective-C   2349\n",
       "17               C   6974\n",
       "18             C++   8155\n",
       "19        Assembly   1823\n",
       "20          VB.NET   2273\n",
       "21            Perl   1585\n",
       "22           Scala   1309\n",
       "23              F#    457\n",
       "24      TypeScript   3488\n",
       "25             Lua   1039\n",
       "26             VBA   1574\n",
       "27          Groovy   1193\n",
       "28              Go   1557\n",
       "29       Smalltalk    327\n",
       "30  Visual Basic 6   1071\n",
       "31     Common Lisp    273\n",
       "32            Dart    145\n",
       "33           Julia    138\n",
       "34            Hack    107"
      ]
     },
     "execution_count": 16,
     "metadata": {},
     "output_type": "execute_result"
    }
   ],
   "source": [
    "D2 = pd.DataFrame.from_dict(A,orient='index',columns=['Users'],)\n",
    "D2=D2.reset_index()\n",
    "D2.columns=['Language','Users']\n",
    "D2"
   ]
  },
  {
   "cell_type": "code",
   "execution_count": 17,
   "metadata": {},
   "outputs": [],
   "source": [
    "D2 = D2.sort_values(by='Users',ascending=False)"
   ]
  },
  {
   "cell_type": "code",
   "execution_count": 18,
   "metadata": {},
   "outputs": [
    {
     "data": {
      "image/png": "[encoded data removed]",
      "text/plain": [
       "<Figure size 842.4x595.44 with 1 Axes>"
      ]
     },
     "metadata": {
      "needs_background": "light"
     },
     "output_type": "display_data"
    }
   ],
   "source": [
    "fig, ax = plt.subplots()\n",
    "fig.set_size_inches(11.7, 8.27)\n",
    "s.barplot(data=D2,x='Language',y='Users',palette='GnBu_r')\n",
    "plt.xticks(rotation=90)\n",
    "plt.title('Popular Languages Worldwide')\n",
    "plt.show()"
   ]
  },
  {
   "cell_type": "markdown",
   "metadata": {},
   "source": [
    "Thus we see Javascript is the most commonly used language amongst the developers"
   ]
  },
  {
   "cell_type": "markdown",
   "metadata": {},
   "source": [
    "# Language Having Higher Salary"
   ]
  },
  {
   "cell_type": "code",
   "execution_count": 19,
   "metadata": {},
   "outputs": [],
   "source": [
    "D=dict()\n",
    "J=list()\n",
    "for i in range(data.shape[0]):\n",
    "    x=data.iloc[i]['HaveWorkedLanguage']\n",
    "    J=str(x).split('; ')\n",
    "    if pd.isna(data.iloc[i]['Salary']):\n",
    "            continue\n",
    "    for v in J:\n",
    "        if v not in D:\n",
    "            D[v]=[1,data.iloc[i]['Salary']]\n",
    "        else:\n",
    "            D[v][0]=D[v][0]+1\n",
    "            D[v][1]=D[v][1]+data.iloc[i]['Salary']\n",
    "        J.clear()"
   ]
  },
  {
   "cell_type": "code",
   "execution_count": 20,
   "metadata": {},
   "outputs": [
    {
     "data": {
      "text/plain": [
       "{'Java': [5063, 274961836.30963445],\n",
       " 'Matlab': [106, 4894303.809797043],\n",
       " 'nan': [10173, 520997425.55657226],\n",
       " 'CoffeeScript': [649, 38478195.474818],\n",
       " 'C#': [7901, 470683636.4026364],\n",
       " 'Objective-C': [292, 15017230.281759894],\n",
       " 'R': [130, 6831123.69093387],\n",
       " 'C': [4010, 231265483.76123568],\n",
       " 'Assembly': [1169, 65964828.717954345],\n",
       " 'JavaScript': [5105, 273749983.653353],\n",
       " 'Perl': [121, 8197748.992534114],\n",
       " 'PHP': [436, 20835695.99036916],\n",
       " 'C++': [2734, 159697470.69425428],\n",
       " 'Go': [516, 33450677.3442025],\n",
       " 'Elixir': [144, 7951944.961607413],\n",
       " 'Python': [752, 40922176.701971054],\n",
       " 'Ruby': [138, 7766612.690607032],\n",
       " 'SQL': [266, 16751392.811141621],\n",
       " 'Common Lisp': [39, 2682125.488112227],\n",
       " 'Groovy': [583, 36732754.60800676],\n",
       " 'Scala': [46, 3384811.4687506547],\n",
       " 'Erlang': [46, 2637604.625225814],\n",
       " 'Swift': [51, 2608429.579502683],\n",
       " 'Clojure': [161, 11288201.28447709],\n",
       " 'Rust': [4, 294774.9121448517],\n",
       " 'Haskell': [81, 4305808.627949886],\n",
       " 'Dart': [34, 1819020.1286171395],\n",
       " 'Lua': [20, 1220877.1984481378],\n",
       " 'Hack': [20, 1322611.7528617],\n",
       " 'VBA': [23, 1269891.1874427267],\n",
       " 'Smalltalk': [62, 5447035.459086375],\n",
       " 'Julia': [23, 1357918.211180282],\n",
       " 'VB.NET': [16, 806784.1225270745],\n",
       " 'F#': [23, 1620808.6324285674],\n",
       " 'Visual Basic 6': [4, 280867.79264798877],\n",
       " 'TypeScript': [7, 522248.1958389762]}"
      ]
     },
     "execution_count": 20,
     "metadata": {},
     "output_type": "execute_result"
    }
   ],
   "source": [
    "D"
   ]
  },
  {
   "cell_type": "code",
   "execution_count": 21,
   "metadata": {},
   "outputs": [
    {
     "data": {
      "text/plain": [
       "[10173, 520997425.55657226]"
      ]
     },
     "execution_count": 21,
     "metadata": {},
     "output_type": "execute_result"
    }
   ],
   "source": [
    "D.pop('nan')"
   ]
  },
  {
   "cell_type": "code",
   "execution_count": 22,
   "metadata": {},
   "outputs": [
    {
     "data": {
      "text/html": [
       "<div>\n",
       "<style scoped>\n",
       "    .dataframe tbody tr th:only-of-type {\n",
       "        vertical-align: middle;\n",
       "    }\n",
       "\n",
       "    .dataframe tbody tr th {\n",
       "        vertical-align: top;\n",
       "    }\n",
       "\n",
       "    .dataframe thead th {\n",
       "        text-align: right;\n",
       "    }\n",
       "</style>\n",
       "<table border=\"1\" class=\"dataframe\">\n",
       "  <thead>\n",
       "    <tr style=\"text-align: right;\">\n",
       "      <th></th>\n",
       "      <th>Count</th>\n",
       "      <th>TotalSalary</th>\n",
       "    </tr>\n",
       "  </thead>\n",
       "  <tbody>\n",
       "    <tr>\n",
       "      <th>Java</th>\n",
       "      <td>5063.0</td>\n",
       "      <td>2.749618e+08</td>\n",
       "    </tr>\n",
       "    <tr>\n",
       "      <th>Matlab</th>\n",
       "      <td>106.0</td>\n",
       "      <td>4.894304e+06</td>\n",
       "    </tr>\n",
       "    <tr>\n",
       "      <th>CoffeeScript</th>\n",
       "      <td>649.0</td>\n",
       "      <td>3.847820e+07</td>\n",
       "    </tr>\n",
       "    <tr>\n",
       "      <th>C#</th>\n",
       "      <td>7901.0</td>\n",
       "      <td>4.706836e+08</td>\n",
       "    </tr>\n",
       "    <tr>\n",
       "      <th>Objective-C</th>\n",
       "      <td>292.0</td>\n",
       "      <td>1.501723e+07</td>\n",
       "    </tr>\n",
       "  </tbody>\n",
       "</table>\n",
       "</div>"
      ],
      "text/plain": [
       "               Count   TotalSalary\n",
       "Java          5063.0  2.749618e+08\n",
       "Matlab         106.0  4.894304e+06\n",
       "CoffeeScript   649.0  3.847820e+07\n",
       "C#            7901.0  4.706836e+08\n",
       "Objective-C    292.0  1.501723e+07"
      ]
     },
     "execution_count": 22,
     "metadata": {},
     "output_type": "execute_result"
    }
   ],
   "source": [
    "temp = pd.DataFrame(D).transpose()\n",
    "temp.columns = ['Count','TotalSalary']\n",
    "temp.head()"
   ]
  },
  {
   "cell_type": "code",
   "execution_count": 23,
   "metadata": {},
   "outputs": [
    {
     "data": {
      "text/html": [
       "<div>\n",
       "<style scoped>\n",
       "    .dataframe tbody tr th:only-of-type {\n",
       "        vertical-align: middle;\n",
       "    }\n",
       "\n",
       "    .dataframe tbody tr th {\n",
       "        vertical-align: top;\n",
       "    }\n",
       "\n",
       "    .dataframe thead th {\n",
       "        text-align: right;\n",
       "    }\n",
       "</style>\n",
       "<table border=\"1\" class=\"dataframe\">\n",
       "  <thead>\n",
       "    <tr style=\"text-align: right;\">\n",
       "      <th></th>\n",
       "      <th>Count</th>\n",
       "      <th>AvgSalary</th>\n",
       "    </tr>\n",
       "  </thead>\n",
       "  <tbody>\n",
       "    <tr>\n",
       "      <th>Java</th>\n",
       "      <td>5063.0</td>\n",
       "      <td>54308.085386</td>\n",
       "    </tr>\n",
       "    <tr>\n",
       "      <th>Matlab</th>\n",
       "      <td>106.0</td>\n",
       "      <td>46172.677451</td>\n",
       "    </tr>\n",
       "    <tr>\n",
       "      <th>CoffeeScript</th>\n",
       "      <td>649.0</td>\n",
       "      <td>59288.436787</td>\n",
       "    </tr>\n",
       "    <tr>\n",
       "      <th>C#</th>\n",
       "      <td>7901.0</td>\n",
       "      <td>59572.666296</td>\n",
       "    </tr>\n",
       "    <tr>\n",
       "      <th>Objective-C</th>\n",
       "      <td>292.0</td>\n",
       "      <td>51428.870828</td>\n",
       "    </tr>\n",
       "  </tbody>\n",
       "</table>\n",
       "</div>"
      ],
      "text/plain": [
       "               Count     AvgSalary\n",
       "Java          5063.0  54308.085386\n",
       "Matlab         106.0  46172.677451\n",
       "CoffeeScript   649.0  59288.436787\n",
       "C#            7901.0  59572.666296\n",
       "Objective-C    292.0  51428.870828"
      ]
     },
     "execution_count": 23,
     "metadata": {},
     "output_type": "execute_result"
    }
   ],
   "source": [
    "temp['AvgSalary']=temp['TotalSalary']/temp['Count']\n",
    "temp.drop('TotalSalary',axis=1,inplace=True)\n",
    "temp.head()"
   ]
  },
  {
   "cell_type": "code",
   "execution_count": 24,
   "metadata": {
    "scrolled": true
   },
   "outputs": [
    {
     "data": {
      "text/html": [
       "<div>\n",
       "<style scoped>\n",
       "    .dataframe tbody tr th:only-of-type {\n",
       "        vertical-align: middle;\n",
       "    }\n",
       "\n",
       "    .dataframe tbody tr th {\n",
       "        vertical-align: top;\n",
       "    }\n",
       "\n",
       "    .dataframe thead th {\n",
       "        text-align: right;\n",
       "    }\n",
       "</style>\n",
       "<table border=\"1\" class=\"dataframe\">\n",
       "  <thead>\n",
       "    <tr style=\"text-align: right;\">\n",
       "      <th></th>\n",
       "      <th>index</th>\n",
       "      <th>Count</th>\n",
       "      <th>AvgSalary</th>\n",
       "    </tr>\n",
       "  </thead>\n",
       "  <tbody>\n",
       "    <tr>\n",
       "      <th>0</th>\n",
       "      <td>Smalltalk</td>\n",
       "      <td>62.0</td>\n",
       "      <td>87855.410630</td>\n",
       "    </tr>\n",
       "    <tr>\n",
       "      <th>1</th>\n",
       "      <td>TypeScript</td>\n",
       "      <td>7.0</td>\n",
       "      <td>74606.885120</td>\n",
       "    </tr>\n",
       "    <tr>\n",
       "      <th>2</th>\n",
       "      <td>Rust</td>\n",
       "      <td>4.0</td>\n",
       "      <td>73693.728036</td>\n",
       "    </tr>\n",
       "    <tr>\n",
       "      <th>3</th>\n",
       "      <td>Scala</td>\n",
       "      <td>46.0</td>\n",
       "      <td>73582.858016</td>\n",
       "    </tr>\n",
       "    <tr>\n",
       "      <th>4</th>\n",
       "      <td>F#</td>\n",
       "      <td>23.0</td>\n",
       "      <td>70469.940540</td>\n",
       "    </tr>\n",
       "  </tbody>\n",
       "</table>\n",
       "</div>"
      ],
      "text/plain": [
       "        index  Count     AvgSalary\n",
       "0   Smalltalk   62.0  87855.410630\n",
       "1  TypeScript    7.0  74606.885120\n",
       "2        Rust    4.0  73693.728036\n",
       "3       Scala   46.0  73582.858016\n",
       "4          F#   23.0  70469.940540"
      ]
     },
     "execution_count": 24,
     "metadata": {},
     "output_type": "execute_result"
    }
   ],
   "source": [
    "temp.reset_index(inplace=True)\n",
    "temp.sort_values('AvgSalary',ascending=False,ignore_index=True).head()\n"
   ]
  },
  {
   "cell_type": "code",
   "execution_count": 25,
   "metadata": {
    "scrolled": false
   },
   "outputs": [
    {
     "data": {
      "image/png": "[encoded data removed]",
      "text/plain": [
       "<Figure size 720x432 with 1 Axes>"
      ]
     },
     "metadata": {
      "needs_background": "light"
     },
     "output_type": "display_data"
    }
   ],
   "source": [
    "plt.figure(figsize=(10,6))\n",
    "s.barplot(y='index',x='AvgSalary',data=temp.sort_values('AvgSalary',ascending=False).head(10))\n",
    "plt.title('Most Valuable Langauges WorldWide')\n",
    "plt.ylabel('Langauges')\n",
    "plt.show()"
   ]
  },
  {
   "cell_type": "markdown",
   "metadata": {},
   "source": [
    "Hence, We see that SmallTalk is the most widely popular language here. This is because SmallTalk is the first language that used OOP.  The highly productive environment provided by Smalltalk platforms made them ideal for rapid, iterative development."
   ]
  },
  {
   "cell_type": "markdown",
   "metadata": {},
   "source": [
    "TypeScript is a modern programming language loved by developers for making web development a lot easier"
   ]
  },
  {
   "cell_type": "markdown",
   "metadata": {},
   "source": [
    "# Popular Langauges in INDIA"
   ]
  },
  {
   "cell_type": "code",
   "execution_count": 26,
   "metadata": {},
   "outputs": [],
   "source": [
    "df_india = pd.read_csv('updatedDatasets/UpdatedIndia.csv')"
   ]
  },
  {
   "cell_type": "code",
   "execution_count": 27,
   "metadata": {},
   "outputs": [],
   "source": [
    "A = {}\n",
    "J = list()\n",
    "for i in dataT['HaveWorkedLanguage']:\n",
    "    x = i\n",
    "    x = str(x)\n",
    "    L = x.split(';')\n",
    "    \n",
    "    for k in L:\n",
    "        J.append(k.strip())\n",
    "    for v in J:\n",
    "        if v not in A:\n",
    "            A[v]=1\n",
    "        else:\n",
    "            A[v]=A[v]+1;\n",
    "    J.clear()"
   ]
  },
  {
   "cell_type": "code",
   "execution_count": 28,
   "metadata": {},
   "outputs": [
    {
     "data": {
      "text/html": [
       "<div>\n",
       "<style scoped>\n",
       "    .dataframe tbody tr th:only-of-type {\n",
       "        vertical-align: middle;\n",
       "    }\n",
       "\n",
       "    .dataframe tbody tr th {\n",
       "        vertical-align: top;\n",
       "    }\n",
       "\n",
       "    .dataframe thead th {\n",
       "        text-align: right;\n",
       "    }\n",
       "</style>\n",
       "<table border=\"1\" class=\"dataframe\">\n",
       "  <thead>\n",
       "    <tr style=\"text-align: right;\">\n",
       "      <th></th>\n",
       "      <th>Language</th>\n",
       "      <th>Users</th>\n",
       "    </tr>\n",
       "  </thead>\n",
       "  <tbody>\n",
       "    <tr>\n",
       "      <th>1</th>\n",
       "      <td>JavaScript</td>\n",
       "      <td>22875</td>\n",
       "    </tr>\n",
       "    <tr>\n",
       "      <th>4</th>\n",
       "      <td>SQL</td>\n",
       "      <td>18754</td>\n",
       "    </tr>\n",
       "    <tr>\n",
       "      <th>5</th>\n",
       "      <td>Java</td>\n",
       "      <td>14524</td>\n",
       "    </tr>\n",
       "    <tr>\n",
       "      <th>15</th>\n",
       "      <td>C#</td>\n",
       "      <td>12476</td>\n",
       "    </tr>\n",
       "    <tr>\n",
       "      <th>2</th>\n",
       "      <td>Python</td>\n",
       "      <td>11704</td>\n",
       "    </tr>\n",
       "  </tbody>\n",
       "</table>\n",
       "</div>"
      ],
      "text/plain": [
       "      Language  Users\n",
       "1   JavaScript  22875\n",
       "4          SQL  18754\n",
       "5         Java  14524\n",
       "15          C#  12476\n",
       "2       Python  11704"
      ]
     },
     "execution_count": 28,
     "metadata": {},
     "output_type": "execute_result"
    }
   ],
   "source": [
    "\n",
    "D2 = pd.Series(A, name = 'Languages Already Worked')\n",
    "D2 = D2.to_frame()\n",
    "D2 = D2.reset_index(level=0)\n",
    "D2.columns=['Language','Users']\n",
    "D2 = D2.sort_values(by='Users',ascending=False)\n",
    "D2.head()"
   ]
  },
  {
   "cell_type": "code",
   "execution_count": 29,
   "metadata": {},
   "outputs": [
    {
     "data": {
      "image/png": "[encoded data removed]",
      "text/plain": [
       "<Figure size 842.4x595.44 with 1 Axes>"
      ]
     },
     "metadata": {
      "needs_background": "light"
     },
     "output_type": "display_data"
    }
   ],
   "source": [
    "fig, ax = plt.subplots()\n",
    "fig.set_size_inches(11.7, 8.27)\n",
    "s.barplot(data=D2,x='Language',y='Users',palette='GnBu_r')\n",
    "plt.xticks(rotation=90)\n",
    "plt.title('Popular Languages INDIA')\n",
    "plt.show()"
   ]
  },
  {
   "cell_type": "markdown",
   "metadata": {},
   "source": [
    "Hence, JavaScript is the most popular Language in India."
   ]
  },
  {
   "cell_type": "markdown",
   "metadata": {},
   "source": [
    "# [WantWorkLanguage] Segregation,Cleaning and Analysis"
   ]
  },
  {
   "cell_type": "code",
   "execution_count": 30,
   "metadata": {},
   "outputs": [],
   "source": [
    "dataT = data[data['WantWorkLanguage'].notna()]"
   ]
  },
  {
   "cell_type": "code",
   "execution_count": 31,
   "metadata": {},
   "outputs": [],
   "source": [
    "A = {}\n",
    "J = list()\n",
    "for i in dataT['WantWorkLanguage']:\n",
    "    x = i\n",
    "    x = str(x)\n",
    "    L = x.split(';')\n",
    "    \n",
    "    for k in L:\n",
    "        J.append(k.strip())\n",
    "    for v in J:\n",
    "        if v not in A:\n",
    "            A[v]=1\n",
    "        else:\n",
    "            A[v]=A[v]+1;\n",
    "    J.clear()"
   ]
  },
  {
   "cell_type": "code",
   "execution_count": 32,
   "metadata": {},
   "outputs": [
    {
     "data": {
      "text/plain": [
       "{'Swift': 4530,\n",
       " 'Java': 9988,\n",
       " 'Python': 12570,\n",
       " 'Ruby': 3966,\n",
       " 'SQL': 11217,\n",
       " 'C': 4841,\n",
       " 'Rust': 2718,\n",
       " 'Matlab': 931,\n",
       " 'R': 2628,\n",
       " 'Clojure': 1308,\n",
       " 'Elixir': 1565,\n",
       " 'Erlang': 1053,\n",
       " 'Haskell': 2306,\n",
       " 'TypeScript': 5692,\n",
       " 'JavaScript': 16327,\n",
       " 'Julia': 515,\n",
       " 'Scala': 3122,\n",
       " 'F#': 2034,\n",
       " 'Go': 5770,\n",
       " 'C#': 10187,\n",
       " 'Objective-C': 1844,\n",
       " 'Assembly': 1923,\n",
       " 'C++': 7647,\n",
       " 'VB.NET': 804,\n",
       " 'Perl': 1089,\n",
       " 'Hack': 338,\n",
       " 'PHP': 5365,\n",
       " 'Lua': 1117,\n",
       " 'Groovy': 866,\n",
       " 'CoffeeScript': 1032,\n",
       " 'Common Lisp': 647,\n",
       " 'Dart': 496,\n",
       " 'Smalltalk': 421,\n",
       " 'VBA': 445,\n",
       " 'Visual Basic 6': 295}"
      ]
     },
     "execution_count": 32,
     "metadata": {},
     "output_type": "execute_result"
    }
   ],
   "source": [
    "A"
   ]
  },
  {
   "cell_type": "code",
   "execution_count": 33,
   "metadata": {},
   "outputs": [
    {
     "data": {
      "text/html": [
       "<div>\n",
       "<style scoped>\n",
       "    .dataframe tbody tr th:only-of-type {\n",
       "        vertical-align: middle;\n",
       "    }\n",
       "\n",
       "    .dataframe tbody tr th {\n",
       "        vertical-align: top;\n",
       "    }\n",
       "\n",
       "    .dataframe thead th {\n",
       "        text-align: right;\n",
       "    }\n",
       "</style>\n",
       "<table border=\"1\" class=\"dataframe\">\n",
       "  <thead>\n",
       "    <tr style=\"text-align: right;\">\n",
       "      <th></th>\n",
       "      <th>0</th>\n",
       "    </tr>\n",
       "  </thead>\n",
       "  <tbody>\n",
       "    <tr>\n",
       "      <th>Swift</th>\n",
       "      <td>4530</td>\n",
       "    </tr>\n",
       "    <tr>\n",
       "      <th>Java</th>\n",
       "      <td>9988</td>\n",
       "    </tr>\n",
       "    <tr>\n",
       "      <th>Python</th>\n",
       "      <td>12570</td>\n",
       "    </tr>\n",
       "    <tr>\n",
       "      <th>Ruby</th>\n",
       "      <td>3966</td>\n",
       "    </tr>\n",
       "    <tr>\n",
       "      <th>SQL</th>\n",
       "      <td>11217</td>\n",
       "    </tr>\n",
       "    <tr>\n",
       "      <th>C</th>\n",
       "      <td>4841</td>\n",
       "    </tr>\n",
       "    <tr>\n",
       "      <th>Rust</th>\n",
       "      <td>2718</td>\n",
       "    </tr>\n",
       "    <tr>\n",
       "      <th>Matlab</th>\n",
       "      <td>931</td>\n",
       "    </tr>\n",
       "    <tr>\n",
       "      <th>R</th>\n",
       "      <td>2628</td>\n",
       "    </tr>\n",
       "    <tr>\n",
       "      <th>Clojure</th>\n",
       "      <td>1308</td>\n",
       "    </tr>\n",
       "    <tr>\n",
       "      <th>Elixir</th>\n",
       "      <td>1565</td>\n",
       "    </tr>\n",
       "    <tr>\n",
       "      <th>Erlang</th>\n",
       "      <td>1053</td>\n",
       "    </tr>\n",
       "    <tr>\n",
       "      <th>Haskell</th>\n",
       "      <td>2306</td>\n",
       "    </tr>\n",
       "    <tr>\n",
       "      <th>TypeScript</th>\n",
       "      <td>5692</td>\n",
       "    </tr>\n",
       "    <tr>\n",
       "      <th>JavaScript</th>\n",
       "      <td>16327</td>\n",
       "    </tr>\n",
       "    <tr>\n",
       "      <th>Julia</th>\n",
       "      <td>515</td>\n",
       "    </tr>\n",
       "    <tr>\n",
       "      <th>Scala</th>\n",
       "      <td>3122</td>\n",
       "    </tr>\n",
       "    <tr>\n",
       "      <th>F#</th>\n",
       "      <td>2034</td>\n",
       "    </tr>\n",
       "    <tr>\n",
       "      <th>Go</th>\n",
       "      <td>5770</td>\n",
       "    </tr>\n",
       "    <tr>\n",
       "      <th>C#</th>\n",
       "      <td>10187</td>\n",
       "    </tr>\n",
       "    <tr>\n",
       "      <th>Objective-C</th>\n",
       "      <td>1844</td>\n",
       "    </tr>\n",
       "    <tr>\n",
       "      <th>Assembly</th>\n",
       "      <td>1923</td>\n",
       "    </tr>\n",
       "    <tr>\n",
       "      <th>C++</th>\n",
       "      <td>7647</td>\n",
       "    </tr>\n",
       "    <tr>\n",
       "      <th>VB.NET</th>\n",
       "      <td>804</td>\n",
       "    </tr>\n",
       "    <tr>\n",
       "      <th>Perl</th>\n",
       "      <td>1089</td>\n",
       "    </tr>\n",
       "    <tr>\n",
       "      <th>Hack</th>\n",
       "      <td>338</td>\n",
       "    </tr>\n",
       "    <tr>\n",
       "      <th>PHP</th>\n",
       "      <td>5365</td>\n",
       "    </tr>\n",
       "    <tr>\n",
       "      <th>Lua</th>\n",
       "      <td>1117</td>\n",
       "    </tr>\n",
       "    <tr>\n",
       "      <th>Groovy</th>\n",
       "      <td>866</td>\n",
       "    </tr>\n",
       "    <tr>\n",
       "      <th>CoffeeScript</th>\n",
       "      <td>1032</td>\n",
       "    </tr>\n",
       "    <tr>\n",
       "      <th>Common Lisp</th>\n",
       "      <td>647</td>\n",
       "    </tr>\n",
       "    <tr>\n",
       "      <th>Dart</th>\n",
       "      <td>496</td>\n",
       "    </tr>\n",
       "    <tr>\n",
       "      <th>Smalltalk</th>\n",
       "      <td>421</td>\n",
       "    </tr>\n",
       "    <tr>\n",
       "      <th>VBA</th>\n",
       "      <td>445</td>\n",
       "    </tr>\n",
       "    <tr>\n",
       "      <th>Visual Basic 6</th>\n",
       "      <td>295</td>\n",
       "    </tr>\n",
       "  </tbody>\n",
       "</table>\n",
       "</div>"
      ],
      "text/plain": [
       "                    0\n",
       "Swift            4530\n",
       "Java             9988\n",
       "Python          12570\n",
       "Ruby             3966\n",
       "SQL             11217\n",
       "C                4841\n",
       "Rust             2718\n",
       "Matlab            931\n",
       "R                2628\n",
       "Clojure          1308\n",
       "Elixir           1565\n",
       "Erlang           1053\n",
       "Haskell          2306\n",
       "TypeScript       5692\n",
       "JavaScript      16327\n",
       "Julia             515\n",
       "Scala            3122\n",
       "F#               2034\n",
       "Go               5770\n",
       "C#              10187\n",
       "Objective-C      1844\n",
       "Assembly         1923\n",
       "C++              7647\n",
       "VB.NET            804\n",
       "Perl             1089\n",
       "Hack              338\n",
       "PHP              5365\n",
       "Lua              1117\n",
       "Groovy            866\n",
       "CoffeeScript     1032\n",
       "Common Lisp       647\n",
       "Dart              496\n",
       "Smalltalk         421\n",
       "VBA               445\n",
       "Visual Basic 6    295"
      ]
     },
     "execution_count": 33,
     "metadata": {},
     "output_type": "execute_result"
    }
   ],
   "source": [
    "D3 = pd.DataFrame.from_dict(A,orient='index')\n",
    "D3"
   ]
  },
  {
   "cell_type": "code",
   "execution_count": 34,
   "metadata": {},
   "outputs": [],
   "source": [
    "D3 = D3.reset_index(level=0)"
   ]
  },
  {
   "cell_type": "code",
   "execution_count": 35,
   "metadata": {},
   "outputs": [],
   "source": [
    "D3.columns=['Want Language','Users']"
   ]
  },
  {
   "cell_type": "code",
   "execution_count": 36,
   "metadata": {},
   "outputs": [],
   "source": [
    "D3= D3.sort_values(by='Users',ascending=False)"
   ]
  },
  {
   "cell_type": "code",
   "execution_count": 37,
   "metadata": {},
   "outputs": [
    {
     "data": {
      "image/png": "[encoded data removed]",
      "text/plain": [
       "<Figure size 842.4x595.44 with 1 Axes>"
      ]
     },
     "metadata": {
      "needs_background": "light"
     },
     "output_type": "display_data"
    }
   ],
   "source": [
    "fig, ax = plt.subplots()\n",
    "fig.set_size_inches(11.7, 8.27)\n",
    "s.barplot(data=D3,x='Want Language',y='Users',palette='GnBu_r')\n",
    "plt.xticks(rotation=90)\n",
    "plt.title('Language Developer want to learn')\n",
    "plt.show()"
   ]
  },
  {
   "cell_type": "markdown",
   "metadata": {},
   "source": [
    "Most of the developers aspire to learn Javascript."
   ]
  },
  {
   "cell_type": "markdown",
   "metadata": {},
   "source": [
    "# [WorkedDatabase] Segregation,Cleaning and Analysis"
   ]
  },
  {
   "cell_type": "code",
   "execution_count": 38,
   "metadata": {},
   "outputs": [],
   "source": [
    "dataT = data[data['HaveWorkedDatabase'].notna()]"
   ]
  },
  {
   "cell_type": "code",
   "execution_count": 39,
   "metadata": {},
   "outputs": [],
   "source": [
    "A = {}\n",
    "J = list()\n",
    "for i in dataT['HaveWorkedDatabase']:\n",
    "    x = i\n",
    "    x = str(x)\n",
    "    L = x.split(';')\n",
    "    \n",
    "    for k in L:\n",
    "        J.append(k.strip())\n",
    "    for v in J:\n",
    "        if v not in A:\n",
    "            A[v]=1\n",
    "        else:\n",
    "            A[v]=A[v]+1;\n",
    "    J.clear()"
   ]
  },
  {
   "cell_type": "code",
   "execution_count": 40,
   "metadata": {},
   "outputs": [
    {
     "data": {
      "text/plain": [
       "{'MySQL': 16375,\n",
       " 'SQLite': 7838,\n",
       " 'MongoDB': 6192,\n",
       " 'Redis': 4143,\n",
       " 'SQL Server': 11358,\n",
       " 'PostgreSQL': 7815,\n",
       " 'Oracle': 4874,\n",
       " 'Cassandra': 906}"
      ]
     },
     "execution_count": 40,
     "metadata": {},
     "output_type": "execute_result"
    }
   ],
   "source": [
    "A"
   ]
  },
  {
   "cell_type": "code",
   "execution_count": 41,
   "metadata": {},
   "outputs": [
    {
     "data": {
      "text/html": [
       "<div>\n",
       "<style scoped>\n",
       "    .dataframe tbody tr th:only-of-type {\n",
       "        vertical-align: middle;\n",
       "    }\n",
       "\n",
       "    .dataframe tbody tr th {\n",
       "        vertical-align: top;\n",
       "    }\n",
       "\n",
       "    .dataframe thead th {\n",
       "        text-align: right;\n",
       "    }\n",
       "</style>\n",
       "<table border=\"1\" class=\"dataframe\">\n",
       "  <thead>\n",
       "    <tr style=\"text-align: right;\">\n",
       "      <th></th>\n",
       "      <th>0</th>\n",
       "    </tr>\n",
       "  </thead>\n",
       "  <tbody>\n",
       "    <tr>\n",
       "      <th>MySQL</th>\n",
       "      <td>16375</td>\n",
       "    </tr>\n",
       "    <tr>\n",
       "      <th>SQLite</th>\n",
       "      <td>7838</td>\n",
       "    </tr>\n",
       "    <tr>\n",
       "      <th>MongoDB</th>\n",
       "      <td>6192</td>\n",
       "    </tr>\n",
       "    <tr>\n",
       "      <th>Redis</th>\n",
       "      <td>4143</td>\n",
       "    </tr>\n",
       "    <tr>\n",
       "      <th>SQL Server</th>\n",
       "      <td>11358</td>\n",
       "    </tr>\n",
       "    <tr>\n",
       "      <th>PostgreSQL</th>\n",
       "      <td>7815</td>\n",
       "    </tr>\n",
       "    <tr>\n",
       "      <th>Oracle</th>\n",
       "      <td>4874</td>\n",
       "    </tr>\n",
       "    <tr>\n",
       "      <th>Cassandra</th>\n",
       "      <td>906</td>\n",
       "    </tr>\n",
       "  </tbody>\n",
       "</table>\n",
       "</div>"
      ],
      "text/plain": [
       "                0\n",
       "MySQL       16375\n",
       "SQLite       7838\n",
       "MongoDB      6192\n",
       "Redis        4143\n",
       "SQL Server  11358\n",
       "PostgreSQL   7815\n",
       "Oracle       4874\n",
       "Cassandra     906"
      ]
     },
     "execution_count": 41,
     "metadata": {},
     "output_type": "execute_result"
    }
   ],
   "source": [
    "D4= pd.DataFrame.from_dict(A,orient='index')\n",
    "D4"
   ]
  },
  {
   "cell_type": "code",
   "execution_count": 42,
   "metadata": {},
   "outputs": [],
   "source": [
    "D4 =D4.reset_index(level=0)"
   ]
  },
  {
   "cell_type": "code",
   "execution_count": 43,
   "metadata": {},
   "outputs": [],
   "source": [
    "D4.columns=['Database Worked','Users']"
   ]
  },
  {
   "cell_type": "code",
   "execution_count": 44,
   "metadata": {},
   "outputs": [
    {
     "data": {
      "text/plain": [
       "Text(0.5, 1.0, 'Famous Databases')"
      ]
     },
     "execution_count": 44,
     "metadata": {},
     "output_type": "execute_result"
    },
    {
     "data": {
      "image/png": "[encoded data removed]",
      "text/plain": [
       "<Figure size 842.4x595.44 with 1 Axes>"
      ]
     },
     "metadata": {
      "needs_background": "light"
     },
     "output_type": "display_data"
    }
   ],
   "source": [
    "D4 = D4.sort_values(by='Users',ascending=False)\n",
    "fig,ax = plt.subplots()\n",
    "fig.set_size_inches(11.7, 8.27)\n",
    "s.barplot(data=D4,x='Database Worked',y ='Users',palette='GnBu_r')\n",
    "plt.title('Famous Databases')"
   ]
  },
  {
   "cell_type": "markdown",
   "metadata": {},
   "source": [
    "This, we see SQL and SQL Server are amongst the most indemand Database Languages"
   ]
  },
  {
   "cell_type": "markdown",
   "metadata": {},
   "source": [
    "# Database Having Higher Salary"
   ]
  },
  {
   "cell_type": "code",
   "execution_count": 45,
   "metadata": {},
   "outputs": [],
   "source": [
    "D=dict()\n",
    "J=list()\n",
    "for i in range(data.shape[0]):\n",
    "    x=data.iloc[i]['HaveWorkedDatabase']\n",
    "    J=str(x).split('; ')\n",
    "    if pd.isna(data.iloc[i]['Salary']):\n",
    "            continue\n",
    "    for v in J:\n",
    "        if v not in D:\n",
    "            D[v]=[1,data.iloc[i]['Salary']]\n",
    "        else:\n",
    "            D[v][0]=D[v][0]+1\n",
    "            D[v][1]=D[v][1]+data.iloc[i]['Salary']\n",
    "        J.clear()"
   ]
  },
  {
   "cell_type": "code",
   "execution_count": 46,
   "metadata": {
    "scrolled": true
   },
   "outputs": [
    {
     "data": {
      "text/plain": [
       "{'MySQL': [6040, 311349423.8993984],\n",
       " 'MongoDB': [5148, 279031289.0886829],\n",
       " 'nan': [15386, 832266017.2082916],\n",
       " 'SQLite': [830, 45219650.242571615],\n",
       " 'Redis': [2231, 137761128.43432027],\n",
       " 'SQL Server': [7980, 469649414.1826839],\n",
       " 'PostgreSQL': [1613, 95362888.05643351],\n",
       " 'Cassandra': [842, 55686333.52924009],\n",
       " 'Oracle': [878, 51694196.47898767]}"
      ]
     },
     "execution_count": 46,
     "metadata": {},
     "output_type": "execute_result"
    }
   ],
   "source": [
    "D"
   ]
  },
  {
   "cell_type": "code",
   "execution_count": 47,
   "metadata": {
    "scrolled": false
   },
   "outputs": [
    {
     "data": {
      "text/plain": [
       "[15386, 832266017.2082916]"
      ]
     },
     "execution_count": 47,
     "metadata": {},
     "output_type": "execute_result"
    }
   ],
   "source": [
    "D.pop('nan')"
   ]
  },
  {
   "cell_type": "code",
   "execution_count": 48,
   "metadata": {
    "scrolled": true
   },
   "outputs": [],
   "source": [
    "D = pd.DataFrame(D).transpose()"
   ]
  },
  {
   "cell_type": "code",
   "execution_count": 49,
   "metadata": {
    "scrolled": true
   },
   "outputs": [],
   "source": [
    "D.columns=['Count','Total Salary']"
   ]
  },
  {
   "cell_type": "code",
   "execution_count": 50,
   "metadata": {},
   "outputs": [],
   "source": [
    "# D.pop('nan')\n",
    "# temp = pd.DataFrame(D).transpose()\n",
    "# temp.columns = ['Count','TotalSalary']"
   ]
  },
  {
   "cell_type": "code",
   "execution_count": 51,
   "metadata": {},
   "outputs": [],
   "source": [
    "temp=D"
   ]
  },
  {
   "cell_type": "code",
   "execution_count": 52,
   "metadata": {},
   "outputs": [
    {
     "data": {
      "text/html": [
       "<div>\n",
       "<style scoped>\n",
       "    .dataframe tbody tr th:only-of-type {\n",
       "        vertical-align: middle;\n",
       "    }\n",
       "\n",
       "    .dataframe tbody tr th {\n",
       "        vertical-align: top;\n",
       "    }\n",
       "\n",
       "    .dataframe thead th {\n",
       "        text-align: right;\n",
       "    }\n",
       "</style>\n",
       "<table border=\"1\" class=\"dataframe\">\n",
       "  <thead>\n",
       "    <tr style=\"text-align: right;\">\n",
       "      <th></th>\n",
       "      <th>index</th>\n",
       "      <th>Count</th>\n",
       "      <th>AvgSalary</th>\n",
       "    </tr>\n",
       "  </thead>\n",
       "  <tbody>\n",
       "    <tr>\n",
       "      <th>6</th>\n",
       "      <td>Cassandra</td>\n",
       "      <td>842.0</td>\n",
       "      <td>66135.788039</td>\n",
       "    </tr>\n",
       "    <tr>\n",
       "      <th>3</th>\n",
       "      <td>Redis</td>\n",
       "      <td>2231.0</td>\n",
       "      <td>61748.600822</td>\n",
       "    </tr>\n",
       "    <tr>\n",
       "      <th>5</th>\n",
       "      <td>PostgreSQL</td>\n",
       "      <td>1613.0</td>\n",
       "      <td>59121.443308</td>\n",
       "    </tr>\n",
       "    <tr>\n",
       "      <th>7</th>\n",
       "      <td>Oracle</td>\n",
       "      <td>878.0</td>\n",
       "      <td>58877.216946</td>\n",
       "    </tr>\n",
       "    <tr>\n",
       "      <th>4</th>\n",
       "      <td>SQL Server</td>\n",
       "      <td>7980.0</td>\n",
       "      <td>58853.310048</td>\n",
       "    </tr>\n",
       "  </tbody>\n",
       "</table>\n",
       "</div>"
      ],
      "text/plain": [
       "        index   Count     AvgSalary\n",
       "6   Cassandra   842.0  66135.788039\n",
       "3       Redis  2231.0  61748.600822\n",
       "5  PostgreSQL  1613.0  59121.443308\n",
       "7      Oracle   878.0  58877.216946\n",
       "4  SQL Server  7980.0  58853.310048"
      ]
     },
     "execution_count": 52,
     "metadata": {},
     "output_type": "execute_result"
    }
   ],
   "source": [
    "temp['AvgSalary']=temp['Total Salary']/temp['Count']\n",
    "temp.drop('Total Salary',axis=1,inplace=True)\n",
    "temp.reset_index(inplace=True)\n",
    "temp.sort_values('AvgSalary',ascending=False).head()"
   ]
  },
  {
   "cell_type": "code",
   "execution_count": 53,
   "metadata": {},
   "outputs": [
    {
     "data": {
      "image/png": "[encoded data removed]",
      "text/plain": [
       "<Figure size 720x432 with 1 Axes>"
      ]
     },
     "metadata": {
      "needs_background": "light"
     },
     "output_type": "display_data"
    }
   ],
   "source": [
    "plt.figure(figsize=(10,6))\n",
    "s.barplot(y='index',x='AvgSalary',data=temp.sort_values('AvgSalary',ascending=False).head())\n",
    "plt.title('Most Valuable Databases WorldWide')\n",
    "plt.ylabel('Databases')\n",
    "plt.show()"
   ]
  },
  {
   "cell_type": "markdown",
   "metadata": {},
   "source": [
    "Cassandra is an incredibly popular database that underpins heavy-load applications. Apart from being a backbone for Facebook and Netflix, Cassandra is a very scalable and resilient database that is easy to master and simple to configure, providing neat solutions for quite complex problems."
   ]
  },
  {
   "cell_type": "markdown",
   "metadata": {},
   "source": [
    "# [WantDatabase] Segregation,Cleaning,Analysis"
   ]
  },
  {
   "cell_type": "code",
   "execution_count": 54,
   "metadata": {},
   "outputs": [],
   "source": [
    "dataT = data[data['WantWorkDatabase'].notna()]"
   ]
  },
  {
   "cell_type": "code",
   "execution_count": 55,
   "metadata": {},
   "outputs": [],
   "source": [
    "A = {}\n",
    "J = list()\n",
    "for i in dataT['WantWorkDatabase']:\n",
    "    x = i\n",
    "    x = str(x)\n",
    "    L = x.split(';')\n",
    "    \n",
    "    for k in L:\n",
    "        J.append(k.strip())\n",
    "    for v in J:\n",
    "        if v not in A:\n",
    "            A[v]=1\n",
    "        else:\n",
    "            A[v]=A[v]+1;\n",
    "    J.clear()"
   ]
  },
  {
   "cell_type": "code",
   "execution_count": 56,
   "metadata": {},
   "outputs": [
    {
     "data": {
      "text/html": [
       "<div>\n",
       "<style scoped>\n",
       "    .dataframe tbody tr th:only-of-type {\n",
       "        vertical-align: middle;\n",
       "    }\n",
       "\n",
       "    .dataframe tbody tr th {\n",
       "        vertical-align: top;\n",
       "    }\n",
       "\n",
       "    .dataframe thead th {\n",
       "        text-align: right;\n",
       "    }\n",
       "</style>\n",
       "<table border=\"1\" class=\"dataframe\">\n",
       "  <thead>\n",
       "    <tr style=\"text-align: right;\">\n",
       "      <th></th>\n",
       "      <th>0</th>\n",
       "    </tr>\n",
       "  </thead>\n",
       "  <tbody>\n",
       "    <tr>\n",
       "      <th>MySQL</th>\n",
       "      <td>9877</td>\n",
       "    </tr>\n",
       "    <tr>\n",
       "      <th>SQLite</th>\n",
       "      <td>5798</td>\n",
       "    </tr>\n",
       "    <tr>\n",
       "      <th>MongoDB</th>\n",
       "      <td>9823</td>\n",
       "    </tr>\n",
       "    <tr>\n",
       "      <th>Redis</th>\n",
       "      <td>6181</td>\n",
       "    </tr>\n",
       "    <tr>\n",
       "      <th>SQL Server</th>\n",
       "      <td>7353</td>\n",
       "    </tr>\n",
       "    <tr>\n",
       "      <th>PostgreSQL</th>\n",
       "      <td>8121</td>\n",
       "    </tr>\n",
       "    <tr>\n",
       "      <th>Cassandra</th>\n",
       "      <td>3151</td>\n",
       "    </tr>\n",
       "    <tr>\n",
       "      <th>Oracle</th>\n",
       "      <td>3034</td>\n",
       "    </tr>\n",
       "  </tbody>\n",
       "</table>\n",
       "</div>"
      ],
      "text/plain": [
       "               0\n",
       "MySQL       9877\n",
       "SQLite      5798\n",
       "MongoDB     9823\n",
       "Redis       6181\n",
       "SQL Server  7353\n",
       "PostgreSQL  8121\n",
       "Cassandra   3151\n",
       "Oracle      3034"
      ]
     },
     "execution_count": 56,
     "metadata": {},
     "output_type": "execute_result"
    }
   ],
   "source": [
    "D5 = pd.DataFrame.from_dict(A,orient='index')\n",
    "D5"
   ]
  },
  {
   "cell_type": "code",
   "execution_count": 57,
   "metadata": {},
   "outputs": [],
   "source": [
    "D5 =D5.reset_index(level=0)"
   ]
  },
  {
   "cell_type": "code",
   "execution_count": 58,
   "metadata": {},
   "outputs": [],
   "source": [
    "D5.columns=['Want Database', 'Users']"
   ]
  },
  {
   "cell_type": "code",
   "execution_count": 59,
   "metadata": {},
   "outputs": [],
   "source": [
    "D5 = D5.sort_values(by='Users',ascending=False)"
   ]
  },
  {
   "cell_type": "code",
   "execution_count": 60,
   "metadata": {},
   "outputs": [
    {
     "data": {
      "image/png": "[encoded data removed]",
      "text/plain": [
       "<Figure size 842.4x595.44 with 1 Axes>"
      ]
     },
     "metadata": {
      "needs_background": "light"
     },
     "output_type": "display_data"
    }
   ],
   "source": [
    "fig,ax=plt.subplots()\n",
    "fig.set_size_inches(11.7, 8.27)\n",
    "s.barplot(data=D5,x='Want Database',y='Users',palette='GnBu_r')\n",
    "plt.title('Databases Developer want to learn')\n",
    "plt.show()"
   ]
  },
  {
   "cell_type": "markdown",
   "metadata": {},
   "source": [
    "Hence, MongoDB and MySQL is coming up to become the most indemand database language that developers want to use"
   ]
  },
  {
   "cell_type": "markdown",
   "metadata": {},
   "source": [
    "MongoDB is popular among new developers due to it's flexibility and ease of usage. Even though it's easy to use it still provides all the capabilities needed to meet the complex requirements of modern applications. A lot of developers like Mongo because it stores all of it's documents in JSON."
   ]
  },
  {
   "cell_type": "markdown",
   "metadata": {},
   "source": [
    "# [WorkedPlatform] Segregation,Cleaning,Analysis"
   ]
  },
  {
   "cell_type": "code",
   "execution_count": 61,
   "metadata": {},
   "outputs": [],
   "source": [
    "dataT = data[data['HaveWorkedPlatform'].notna()]"
   ]
  },
  {
   "cell_type": "code",
   "execution_count": 62,
   "metadata": {},
   "outputs": [],
   "source": [
    "A = {}\n",
    "J = list()\n",
    "for i in dataT['HaveWorkedPlatform']:\n",
    "    x = i\n",
    "    x = str(x)\n",
    "    L = x.split(';')\n",
    "    \n",
    "    for k in L:\n",
    "        J.append(k.strip())\n",
    "    for v in J:\n",
    "        if v not in A:\n",
    "            A[v]=1\n",
    "        else:\n",
    "            A[v]=A[v]+1;\n",
    "    J.clear()"
   ]
  },
  {
   "cell_type": "code",
   "execution_count": 63,
   "metadata": {},
   "outputs": [
    {
     "data": {
      "text/plain": [
       "{'iOS': 4782,\n",
       " 'Amazon Web Services (AWS)': 8183,\n",
       " 'Windows Desktop': 11949,\n",
       " 'Linux Desktop': 9593,\n",
       " 'Mac OS': 5363,\n",
       " 'Android': 8211,\n",
       " 'Microsoft Azure': 3327,\n",
       " 'Windows Phone': 1124,\n",
       " 'Raspberry Pi': 4676,\n",
       " 'WordPress': 4537,\n",
       " 'Arduino': 2986,\n",
       " 'Serverless': 606,\n",
       " 'SharePoint': 1083,\n",
       " 'Mainframe': 404,\n",
       " 'Salesforce': 762}"
      ]
     },
     "execution_count": 63,
     "metadata": {},
     "output_type": "execute_result"
    }
   ],
   "source": [
    "A"
   ]
  },
  {
   "cell_type": "code",
   "execution_count": 64,
   "metadata": {},
   "outputs": [],
   "source": [
    "D6 = pd.DataFrame.from_dict(A,orient='index')"
   ]
  },
  {
   "cell_type": "code",
   "execution_count": null,
   "metadata": {},
   "outputs": [],
   "source": []
  },
  {
   "cell_type": "code",
   "execution_count": 65,
   "metadata": {},
   "outputs": [
    {
     "data": {
      "text/html": [
       "<div>\n",
       "<style scoped>\n",
       "    .dataframe tbody tr th:only-of-type {\n",
       "        vertical-align: middle;\n",
       "    }\n",
       "\n",
       "    .dataframe tbody tr th {\n",
       "        vertical-align: top;\n",
       "    }\n",
       "\n",
       "    .dataframe thead th {\n",
       "        text-align: right;\n",
       "    }\n",
       "</style>\n",
       "<table border=\"1\" class=\"dataframe\">\n",
       "  <thead>\n",
       "    <tr style=\"text-align: right;\">\n",
       "      <th></th>\n",
       "      <th>0</th>\n",
       "    </tr>\n",
       "  </thead>\n",
       "  <tbody>\n",
       "    <tr>\n",
       "      <th>iOS</th>\n",
       "      <td>4782</td>\n",
       "    </tr>\n",
       "    <tr>\n",
       "      <th>Amazon Web Services (AWS)</th>\n",
       "      <td>8183</td>\n",
       "    </tr>\n",
       "    <tr>\n",
       "      <th>Windows Desktop</th>\n",
       "      <td>11949</td>\n",
       "    </tr>\n",
       "    <tr>\n",
       "      <th>Linux Desktop</th>\n",
       "      <td>9593</td>\n",
       "    </tr>\n",
       "    <tr>\n",
       "      <th>Mac OS</th>\n",
       "      <td>5363</td>\n",
       "    </tr>\n",
       "    <tr>\n",
       "      <th>Android</th>\n",
       "      <td>8211</td>\n",
       "    </tr>\n",
       "    <tr>\n",
       "      <th>Microsoft Azure</th>\n",
       "      <td>3327</td>\n",
       "    </tr>\n",
       "    <tr>\n",
       "      <th>Windows Phone</th>\n",
       "      <td>1124</td>\n",
       "    </tr>\n",
       "    <tr>\n",
       "      <th>Raspberry Pi</th>\n",
       "      <td>4676</td>\n",
       "    </tr>\n",
       "    <tr>\n",
       "      <th>WordPress</th>\n",
       "      <td>4537</td>\n",
       "    </tr>\n",
       "    <tr>\n",
       "      <th>Arduino</th>\n",
       "      <td>2986</td>\n",
       "    </tr>\n",
       "    <tr>\n",
       "      <th>Serverless</th>\n",
       "      <td>606</td>\n",
       "    </tr>\n",
       "    <tr>\n",
       "      <th>SharePoint</th>\n",
       "      <td>1083</td>\n",
       "    </tr>\n",
       "    <tr>\n",
       "      <th>Mainframe</th>\n",
       "      <td>404</td>\n",
       "    </tr>\n",
       "    <tr>\n",
       "      <th>Salesforce</th>\n",
       "      <td>762</td>\n",
       "    </tr>\n",
       "  </tbody>\n",
       "</table>\n",
       "</div>"
      ],
      "text/plain": [
       "                               0\n",
       "iOS                         4782\n",
       "Amazon Web Services (AWS)   8183\n",
       "Windows Desktop            11949\n",
       "Linux Desktop               9593\n",
       "Mac OS                      5363\n",
       "Android                     8211\n",
       "Microsoft Azure             3327\n",
       "Windows Phone               1124\n",
       "Raspberry Pi                4676\n",
       "WordPress                   4537\n",
       "Arduino                     2986\n",
       "Serverless                   606\n",
       "SharePoint                  1083\n",
       "Mainframe                    404\n",
       "Salesforce                   762"
      ]
     },
     "execution_count": 65,
     "metadata": {},
     "output_type": "execute_result"
    }
   ],
   "source": [
    "D6"
   ]
  },
  {
   "cell_type": "code",
   "execution_count": 66,
   "metadata": {},
   "outputs": [],
   "source": [
    "D6=D6.reset_index(level=0)"
   ]
  },
  {
   "cell_type": "code",
   "execution_count": 67,
   "metadata": {},
   "outputs": [],
   "source": [
    "D6.columns=['Platform Worked','Users']"
   ]
  },
  {
   "cell_type": "code",
   "execution_count": 68,
   "metadata": {},
   "outputs": [],
   "source": [
    "D6=D6.sort_values(by='Users',ascending=False)"
   ]
  },
  {
   "cell_type": "code",
   "execution_count": 69,
   "metadata": {
    "scrolled": false
   },
   "outputs": [
    {
     "data": {
      "image/png": "[encoded data removed]",
      "text/plain": [
       "<Figure size 849.6x595.44 with 1 Axes>"
      ]
     },
     "metadata": {
      "needs_background": "light"
     },
     "output_type": "display_data"
    }
   ],
   "source": [
    "fig,ax = plt.subplots()\n",
    "fig.set_size_inches(11.8,8.27)\n",
    "s.barplot(data=D6,x='Platform Worked',y='Users',palette='GnBu_r')\n",
    "plt.xticks(rotation=90)\n",
    "plt.title('Most Popular Platform Worldwide')\n",
    "plt.show()"
   ]
  },
  {
   "cell_type": "markdown",
   "metadata": {},
   "source": [
    "Windows 10 is the most popular windows OS with about 73.05 % market share. It has a wealth of tools and features etc."
   ]
  },
  {
   "cell_type": "markdown",
   "metadata": {},
   "source": [
    "hence, Windows Desktop is the most popular Platform to work for Mobile Developers."
   ]
  },
  {
   "cell_type": "markdown",
   "metadata": {},
   "source": [
    "# [WantWorkPlatform] Segregation,Cleaning and Analysis"
   ]
  },
  {
   "cell_type": "code",
   "execution_count": 70,
   "metadata": {},
   "outputs": [],
   "source": [
    "dataT = data[data['WantWorkPlatform'].notna()]"
   ]
  },
  {
   "cell_type": "code",
   "execution_count": 71,
   "metadata": {},
   "outputs": [],
   "source": [
    "A = {}\n",
    "J = list()\n",
    "for i in dataT['WantWorkPlatform']:\n",
    "    x = i\n",
    "    x = str(x)\n",
    "    L = x.split(';')\n",
    "    \n",
    "    for k in L:\n",
    "        J.append(k.strip())\n",
    "    for v in J:\n",
    "        if v not in A:\n",
    "            A[v]=1\n",
    "        else:\n",
    "            A[v]=A[v]+1;\n",
    "    J.clear()"
   ]
  },
  {
   "cell_type": "code",
   "execution_count": 72,
   "metadata": {
    "scrolled": true
   },
   "outputs": [
    {
     "data": {
      "text/plain": [
       "{'iOS': 7243,\n",
       " 'Linux Desktop': 9330,\n",
       " 'Raspberry Pi': 8033,\n",
       " 'Amazon Web Services (AWS)': 10706,\n",
       " 'Windows Desktop': 7678,\n",
       " 'Mac OS': 5439,\n",
       " 'Arduino': 4632,\n",
       " 'Serverless': 1860,\n",
       " 'Microsoft Azure': 4456,\n",
       " 'Android': 11019,\n",
       " 'Windows Phone': 1399,\n",
       " 'WordPress': 2342,\n",
       " 'Salesforce': 633,\n",
       " 'Mainframe': 412,\n",
       " 'SharePoint': 664}"
      ]
     },
     "execution_count": 72,
     "metadata": {},
     "output_type": "execute_result"
    }
   ],
   "source": [
    "A"
   ]
  },
  {
   "cell_type": "code",
   "execution_count": 73,
   "metadata": {},
   "outputs": [
    {
     "data": {
      "text/html": [
       "<div>\n",
       "<style scoped>\n",
       "    .dataframe tbody tr th:only-of-type {\n",
       "        vertical-align: middle;\n",
       "    }\n",
       "\n",
       "    .dataframe tbody tr th {\n",
       "        vertical-align: top;\n",
       "    }\n",
       "\n",
       "    .dataframe thead th {\n",
       "        text-align: right;\n",
       "    }\n",
       "</style>\n",
       "<table border=\"1\" class=\"dataframe\">\n",
       "  <thead>\n",
       "    <tr style=\"text-align: right;\">\n",
       "      <th></th>\n",
       "      <th>Want Platform</th>\n",
       "      <th>Users</th>\n",
       "    </tr>\n",
       "  </thead>\n",
       "  <tbody>\n",
       "    <tr>\n",
       "      <th>0</th>\n",
       "      <td>iOS</td>\n",
       "      <td>7243</td>\n",
       "    </tr>\n",
       "    <tr>\n",
       "      <th>1</th>\n",
       "      <td>Linux Desktop</td>\n",
       "      <td>9330</td>\n",
       "    </tr>\n",
       "  </tbody>\n",
       "</table>\n",
       "</div>"
      ],
      "text/plain": [
       "   Want Platform  Users\n",
       "0            iOS   7243\n",
       "1  Linux Desktop   9330"
      ]
     },
     "execution_count": 73,
     "metadata": {},
     "output_type": "execute_result"
    }
   ],
   "source": [
    "D7 = pd.DataFrame.from_dict(A,orient='index')\n",
    "D7 = D7.reset_index()\n",
    "D7.columns=['Want Platform','Users']\n",
    "D7.head(2)"
   ]
  },
  {
   "cell_type": "code",
   "execution_count": 74,
   "metadata": {},
   "outputs": [],
   "source": [
    "D7=D7.sort_values(by='Users',ascending=False)"
   ]
  },
  {
   "cell_type": "code",
   "execution_count": 75,
   "metadata": {},
   "outputs": [
    {
     "data": {
      "image/png": "[encoded data removed]",
      "text/plain": [
       "<Figure size 849.6x595.44 with 1 Axes>"
      ]
     },
     "metadata": {
      "needs_background": "light"
     },
     "output_type": "display_data"
    }
   ],
   "source": [
    "fig,ax = plt.subplots()\n",
    "fig.set_size_inches(11.8,8.27)\n",
    "s.barplot(data=D7,x='Want Platform',y='Users',palette='GnBu_r')\n",
    "plt.xticks(rotation=90)\n",
    "plt.title('Platform developer want to learn')\n",
    "plt.show()"
   ]
  },
  {
   "cell_type": "markdown",
   "metadata": {},
   "source": [
    "Hence, we see that Android, AWS, Linux Desktop are amongst the top platforms that users want to learn"
   ]
  },
  {
   "cell_type": "markdown",
   "metadata": {},
   "source": [
    "A large contributor to Android's popularity is the fact that many more smartphone and device manufacturers use it as the OS for their devices."
   ]
  },
  {
   "cell_type": "markdown",
   "metadata": {},
   "source": [
    "Since AWS's cost is modified based on the customers' usage, start-ups and small businesses can see the obvious benefits of using Amazon for their computing needs. In fact, AWS is great for building a business from the bottom as it provides all the tools necessary for companies to start up with the cloud."
   ]
  },
  {
   "cell_type": "markdown",
   "metadata": {},
   "source": [
    "What makes Linux attractive is the free and open source software (FOSS) licensing model. One of the most attractive elements offered by the OS is its price – totally free. Users can download current versions of hundreds of distributions."
   ]
  },
  {
   "cell_type": "code",
   "execution_count": null,
   "metadata": {},
   "outputs": [],
   "source": []
  }
 ],
 "metadata": {
  "kernelspec": {
   "display_name": "Python 3",
   "language": "python",
   "name": "python3"
  },
  "language_info": {
   "codemirror_mode": {
    "name": "ipython",
    "version": 3
   },
   "file_extension": ".py",
   "mimetype": "text/x-python",
   "name": "python",
   "nbconvert_exporter": "python",
   "pygments_lexer": "ipython3",
   "version": "3.8.3"
  }
 },
 "nbformat": 4,
 "nbformat_minor": 4
}
